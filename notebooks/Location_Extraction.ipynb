{
 "cells": [
  {
   "cell_type": "code",
   "execution_count": 150,
   "metadata": {},
   "outputs": [],
   "source": [
    "# Load required modules\n",
    "import pandas as pd\n",
    "import numpy as np\n",
    "\n",
    "from spacy.matcher import Matcher\n",
    "from spacy.attrs import IS_PUNCT, LOWER\n",
    "import spacy\n",
    "\n",
    "nlp = spacy.load('en_core_web_lg')\n",
    "matcher = Matcher(nlp.vocab)"
   ]
  },
  {
   "cell_type": "code",
   "execution_count": 118,
   "metadata": {},
   "outputs": [],
   "source": [
    "matcher = Matcher(nlp.vocab)"
   ]
  },
  {
   "cell_type": "code",
   "execution_count": 382,
   "metadata": {},
   "outputs": [],
   "source": [
    "def skillPattern(skill):\n",
    "    pattern = []\n",
    "    for b in skill.split():\n",
    "        pattern.append({'LOWER':b})  \n",
    "    return pattern\n",
    "\n",
    "def buildPatterns(skills):\n",
    "    pattern = []\n",
    "    for skill in skills:\n",
    "        pattern.append(skillPattern(skill))\n",
    "#     print(skills, pattern)\n",
    "    return list(zip(skills, pattern))\n"
   ]
  },
  {
   "cell_type": "code",
   "execution_count": 383,
   "metadata": {},
   "outputs": [],
   "source": [
    "def on_match(matcher, doc, id, matches):\n",
    " #   print(matcher, doc, id, matches)\n",
    "    return matches\n",
    "\n",
    "def buildMatcher(patterns):\n",
    "    for pattern in patterns:\n",
    "        matcher.add(pattern[0], on_match, pattern[1])\n",
    "    return matcher"
   ]
  },
  {
   "cell_type": "code",
   "execution_count": 384,
   "metadata": {},
   "outputs": [],
   "source": [
    "def city_Matcher(matcher, text):\n",
    "    skills = []\n",
    "    doc = nlp(text.lower())\n",
    "    matches = matcher(doc)\n",
    "    mat_data = []\n",
    "    print(matches)\n",
    "    for b in matches:\n",
    "        print(b)\n",
    "        match_id, start, end = b\n",
    "        mat_data.append({\"text\":doc[start : end].text , \"label_\":\"GPE\"})\n",
    "#         print(doc[start : end], start, end)\n",
    "    return mat_data\n"
   ]
  },
  {
   "cell_type": "code",
   "execution_count": null,
   "metadata": {},
   "outputs": [],
   "source": []
  },
  {
   "cell_type": "code",
   "execution_count": 381,
   "metadata": {},
   "outputs": [
    {
     "name": "stdout",
     "output_type": "stream",
     "text": [
      "[]\n"
     ]
    },
    {
     "data": {
      "text/plain": [
       "[]"
      ]
     },
     "execution_count": 381,
     "metadata": {},
     "output_type": "execute_result"
    }
   ],
   "source": [
    "city_Matcher(city_matcher, \"I am from Saharanpur, i live in san jim corbett, A Taj Safari Lodge - Kanha National Park..   \")"
   ]
  },
  {
   "cell_type": "code",
   "execution_count": 213,
   "metadata": {},
   "outputs": [],
   "source": [
    "import pandas as pd\n",
    "import numpy as np\n",
    "\n",
    "df = pd.read_csv(r'../datawe/raw/Email_Classification/Taj Locations.csv')\n"
   ]
  },
  {
   "cell_type": "code",
   "execution_count": 214,
   "metadata": {},
   "outputs": [
    {
     "data": {
      "text/plain": [
       "Index(['Unnamed: 0', 'country', 'city', 'palace'], dtype='object')"
      ]
     },
     "execution_count": 214,
     "metadata": {},
     "output_type": "execute_result"
    }
   ],
   "source": [
    "df.columns"
   ]
  },
  {
   "cell_type": "code",
   "execution_count": 215,
   "metadata": {},
   "outputs": [],
   "source": [
    "def concatinateLoc(dta, cityArr):\n",
    "    for city, repeated in dta.value_counts().items():\n",
    "        cityArr.append(u''+city.lower())\n",
    "    return cityArr"
   ]
  },
  {
   "cell_type": "code",
   "execution_count": 216,
   "metadata": {},
   "outputs": [],
   "source": [
    "taj_cities = []\n",
    "\n",
    "concatinateLoc(df[\"city\"], taj_cities)\n",
    "concatinateLoc(df[\"country\"], taj_cities)\n",
    "taj_place = []\n",
    "for place, repeated in enumerate(df[\"palace\"]):\n",
    "    taj_place += repeated.lower().split(',')\n",
    "taj_cities += [plc.strip() for plc in taj_place]\n"
   ]
  },
  {
   "cell_type": "code",
   "execution_count": 219,
   "metadata": {},
   "outputs": [
    {
     "data": {
      "text/plain": [
       "['bangalore',\n",
       " 'hyderabad',\n",
       " 'chennai',\n",
       " 'mumbai',\n",
       " 'new delhi',\n",
       " 'goa',\n",
       " 'jaipur',\n",
       " 'thimpu',\n",
       " 'gurgaon',\n",
       " 'colombo',\n",
       " 'boston',\n",
       " 'kolkata',\n",
       " 'pune',\n",
       " 'jodhpur',\n",
       " 'varanasi',\n",
       " 'cape town',\n",
       " 'udaipur',\n",
       " 'panna',\n",
       " 'nashik',\n",
       " 'san francisco',\n",
       " 'kumarakom',\n",
       " 'varkala',\n",
       " 'bekal',\n",
       " 'ernakulam',\n",
       " 'guwahati',\n",
       " 'aurangabad',\n",
       " 'banjaar tola',\n",
       " 'chikmagalur',\n",
       " 'jim corbett',\n",
       " 'srinagar',\n",
       " 'ooty',\n",
       " 'vishakhapatnam',\n",
       " 'coimbatore',\n",
       " 'new york',\n",
       " 'khajuraho',\n",
       " 'gondia',\n",
       " 'london',\n",
       " 'bentota',\n",
       " 'coonoor',\n",
       " 'calicut',\n",
       " 'surat',\n",
       " 'cochin',\n",
       " 'bandhavgarh',\n",
       " 'langkawi',\n",
       " 'coorg',\n",
       " 'agra',\n",
       " 'gwalior',\n",
       " 'gir forest',\n",
       " 'ranthambor',\n",
       " 'ajmer',\n",
       " 'amritsar',\n",
       " 'lucknow',\n",
       " 'mangalore',\n",
       " 'vadodara',\n",
       " 'vijaywada',\n",
       " 'lusaka',\n",
       " 'trivandrum',\n",
       " 'madurai',\n",
       " 'kovalam',\n",
       " 'dubai',\n",
       " 'chandigarh',\n",
       " 'chitwan',\n",
       " 'baghvan',\n",
       " 'india',\n",
       " 'zambia',\n",
       " 'united arab emirates',\n",
       " 'maldives',\n",
       " 'united states of america',\n",
       " 'united kingdom',\n",
       " 'malaysia',\n",
       " 'nepal',\n",
       " 'bhutan',\n",
       " 'south africa',\n",
       " 'sri lanka',\n",
       " 'the gateway hotel fatehabad road',\n",
       " 'the gateway resort',\n",
       " 'taj swarna',\n",
       " 'vivanta by taj',\n",
       " 'aurangabad',\n",
       " 'baghvan',\n",
       " 'a taj safari lodge',\n",
       " 'pench national park',\n",
       " 'mahua kothi',\n",
       " 'a taj safari lodge',\n",
       " 'bandhavgarh national park',\n",
       " 'taj bangalore',\n",
       " 'the taj west end',\n",
       " 'vivanta by taj mg road',\n",
       " 'vivanta by taj',\n",
       " 'whitefield',\n",
       " 'vivanta by taj',\n",
       " 'yeshwantpur',\n",
       " 'the gateway hotel residency road',\n",
       " 'banjaar tola',\n",
       " 'a taj safari lodge',\n",
       " 'kanha national park',\n",
       " 'vivanta by taj',\n",
       " 'bekal',\n",
       " 'the gateway hotel beach road',\n",
       " 'taj chandigarh',\n",
       " 'taj coromandel',\n",
       " 'taj club house',\n",
       " 'vivanta by taj',\n",
       " 'connemara',\n",
       " 'vivanta by taj',\n",
       " \"fisherman's cove\",\n",
       " 'the gateway hotel it expressway',\n",
       " 'the gateway hotel km road',\n",
       " 'vivanta by taj',\n",
       " 'malabar',\n",
       " 'vivanta by taj',\n",
       " 'surya',\n",
       " 'the gateway hotel church road',\n",
       " 'vivanta by taj',\n",
       " 'madikeri',\n",
       " 'the gateway hotel marine drive',\n",
       " 'the gateway hotel gir forest',\n",
       " 'taj exotica',\n",
       " 'vivanta by taj',\n",
       " 'fort aguada',\n",
       " 'vivanta by taj',\n",
       " 'holiday village',\n",
       " 'vivanta by taj',\n",
       " 'panaji',\n",
       " 'the gateway hotel balaghat road',\n",
       " 'vivanta by taj',\n",
       " 'ncr',\n",
       " 'the gateway resort damdama lake',\n",
       " 'vivanta by taj',\n",
       " 'guwahati',\n",
       " 'usha kiran palace',\n",
       " 'taj falaknuma palace',\n",
       " 'taj krishna',\n",
       " 'taj deccan',\n",
       " 'vivanta by taj',\n",
       " 'begumpet',\n",
       " 'taj banjara',\n",
       " 'jai mahal palace',\n",
       " 'rambagh palace',\n",
       " 'sms hotel',\n",
       " 'the gateway hotel ramgarh lodge',\n",
       " 'the gateway resort corbett',\n",
       " 'umaid bhawan palace',\n",
       " 'vivanta by taj',\n",
       " 'hari mahal',\n",
       " 'hotel chandela',\n",
       " 'khajuraho',\n",
       " 'taj bengal',\n",
       " 'the gateway hotel em bypass',\n",
       " 'vivanta by taj green cove',\n",
       " 'vivanta by taj',\n",
       " 'kumarakom',\n",
       " 'vivanta by taj',\n",
       " 'gomti nagar',\n",
       " 'the gateway hotel pasumalai',\n",
       " 'the gateway hotel old port road',\n",
       " 'taj lands end',\n",
       " 'taj santacruz',\n",
       " 'taj wellington mews luxury residences',\n",
       " 'the taj mahal palace',\n",
       " 'mumbai',\n",
       " 'vivanta by taj',\n",
       " 'president',\n",
       " 'the gateway hotel ambad',\n",
       " 'taj palace',\n",
       " 'the taj mahal hotel',\n",
       " 'vivanta by taj',\n",
       " 'ambassador',\n",
       " 'vivanta by taj',\n",
       " 'dwarka',\n",
       " 'vivanta by taj',\n",
       " 'surajkund',\n",
       " 'savoy hotel',\n",
       " 'pashan garh',\n",
       " 'a taj safari lodge',\n",
       " 'panna national park',\n",
       " 'vivanta by taj',\n",
       " 'blue diamond',\n",
       " 'the gateway hotel hinjawadi',\n",
       " 'vivanta by taj',\n",
       " 'sawai madhopur lodge',\n",
       " 'vivanta by taj',\n",
       " 'dal view',\n",
       " 'the gateway hotel athwalines',\n",
       " 'vivanta by taj',\n",
       " 'trivandrum',\n",
       " 'taj lake palace',\n",
       " 'the gateway hotel akota gardens',\n",
       " 'taj nadesar palace',\n",
       " 'the gateway hotel ganges',\n",
       " 'the gateway hotel janardhanpuram',\n",
       " 'the gateway hotel mg road vijayawada',\n",
       " 'the gateway hotel beach road visakhapatnam',\n",
       " 'taj tashi',\n",
       " 'taj exotica resort & spa',\n",
       " 'vivanta by taj',\n",
       " 'coral reef',\n",
       " 'vivanta by taj',\n",
       " 'rebak island',\n",
       " 'meghauli serai',\n",
       " 'a taj safari lodge',\n",
       " 'taj cape town',\n",
       " 'vivanta by taj',\n",
       " 'bentota',\n",
       " 'taj dubai',\n",
       " 'taj samudra',\n",
       " 'the gateway hotel airport garden',\n",
       " \"st. james' court\",\n",
       " 'a taj hotel',\n",
       " 'taj boston',\n",
       " 'taj 51 buckingham gate suites and residences',\n",
       " 'taj pamodzi lusaka',\n",
       " 'the pierre',\n",
       " 'a taj hotel',\n",
       " 'taj campton place']"
      ]
     },
     "execution_count": 219,
     "metadata": {},
     "output_type": "execute_result"
    }
   ],
   "source": [
    "taj_cities"
   ]
  },
  {
   "cell_type": "code",
   "execution_count": 21,
   "metadata": {
    "collapsed": true
   },
   "outputs": [
    {
     "data": {
      "text/plain": [
       "['the gateway hotel fatehabad road',\n",
       " 'the gateway resort',\n",
       " 'taj swarna',\n",
       " 'vivanta by taj',\n",
       " 'aurangabad',\n",
       " 'baghvan',\n",
       " 'a taj safari lodge',\n",
       " 'pench national park',\n",
       " 'mahua kothi',\n",
       " 'a taj safari lodge',\n",
       " 'bandhavgarh national park',\n",
       " 'taj bangalore',\n",
       " 'the taj west end',\n",
       " 'vivanta by taj mg road',\n",
       " 'vivanta by taj',\n",
       " 'whitefield',\n",
       " 'vivanta by taj',\n",
       " 'yeshwantpur',\n",
       " 'the gateway hotel residency road',\n",
       " 'banjaar tola',\n",
       " 'a taj safari lodge',\n",
       " 'kanha national park',\n",
       " 'vivanta by taj',\n",
       " 'bekal',\n",
       " 'the gateway hotel beach road',\n",
       " 'taj chandigarh',\n",
       " 'taj coromandel',\n",
       " 'taj club house',\n",
       " 'vivanta by taj',\n",
       " 'connemara',\n",
       " 'vivanta by taj',\n",
       " \"fisherman's cove\",\n",
       " 'the gateway hotel it expressway',\n",
       " 'the gateway hotel km road',\n",
       " 'vivanta by taj',\n",
       " 'malabar',\n",
       " 'vivanta by taj',\n",
       " 'surya',\n",
       " 'the gateway hotel church road',\n",
       " 'vivanta by taj',\n",
       " 'madikeri',\n",
       " 'the gateway hotel marine drive',\n",
       " 'the gateway hotel gir forest',\n",
       " 'taj exotica',\n",
       " 'vivanta by taj',\n",
       " 'fort aguada',\n",
       " 'vivanta by taj',\n",
       " 'holiday village',\n",
       " 'vivanta by taj',\n",
       " 'panaji',\n",
       " 'the gateway hotel balaghat road',\n",
       " 'vivanta by taj',\n",
       " 'ncr',\n",
       " 'the gateway resort damdama lake',\n",
       " 'vivanta by taj',\n",
       " 'guwahati',\n",
       " 'usha kiran palace',\n",
       " 'taj falaknuma palace',\n",
       " 'taj krishna',\n",
       " 'taj deccan',\n",
       " 'vivanta by taj',\n",
       " 'begumpet',\n",
       " 'taj banjara',\n",
       " 'jai mahal palace',\n",
       " 'rambagh palace',\n",
       " 'sms hotel',\n",
       " 'the gateway hotel ramgarh lodge',\n",
       " 'the gateway resort corbett',\n",
       " 'umaid bhawan palace',\n",
       " 'vivanta by taj',\n",
       " 'hari mahal',\n",
       " 'hotel chandela',\n",
       " 'khajuraho',\n",
       " 'taj bengal',\n",
       " 'the gateway hotel em bypass',\n",
       " 'vivanta by taj green cove',\n",
       " 'vivanta by taj',\n",
       " 'kumarakom',\n",
       " 'vivanta by taj',\n",
       " 'gomti nagar',\n",
       " 'the gateway hotel pasumalai',\n",
       " 'the gateway hotel old port road',\n",
       " 'taj lands end',\n",
       " 'taj santacruz',\n",
       " 'taj wellington mews luxury residences',\n",
       " 'the taj mahal palace',\n",
       " 'mumbai',\n",
       " 'vivanta by taj',\n",
       " 'president',\n",
       " 'the gateway hotel ambad',\n",
       " 'taj palace',\n",
       " 'the taj mahal hotel',\n",
       " 'vivanta by taj',\n",
       " 'ambassador',\n",
       " 'vivanta by taj',\n",
       " 'dwarka',\n",
       " 'vivanta by taj',\n",
       " 'surajkund',\n",
       " 'savoy hotel',\n",
       " 'pashan garh',\n",
       " 'a taj safari lodge',\n",
       " 'panna national park',\n",
       " 'vivanta by taj',\n",
       " 'blue diamond',\n",
       " 'the gateway hotel hinjawadi',\n",
       " 'vivanta by taj',\n",
       " 'sawai madhopur lodge',\n",
       " 'vivanta by taj',\n",
       " 'dal view',\n",
       " 'the gateway hotel athwalines',\n",
       " 'vivanta by taj',\n",
       " 'trivandrum',\n",
       " 'taj lake palace',\n",
       " 'the gateway hotel akota gardens',\n",
       " 'taj nadesar palace',\n",
       " 'the gateway hotel ganges',\n",
       " 'the gateway hotel janardhanpuram',\n",
       " 'the gateway hotel mg road vijayawada',\n",
       " 'the gateway hotel beach road visakhapatnam',\n",
       " 'taj tashi',\n",
       " 'taj exotica resort & spa',\n",
       " 'vivanta by taj',\n",
       " 'coral reef',\n",
       " 'vivanta by taj',\n",
       " 'rebak island',\n",
       " 'meghauli serai',\n",
       " 'a taj safari lodge',\n",
       " 'taj cape town',\n",
       " 'vivanta by taj',\n",
       " 'bentota',\n",
       " 'taj dubai',\n",
       " 'taj samudra',\n",
       " 'the gateway hotel airport garden',\n",
       " \"st. james' court\",\n",
       " 'a taj hotel',\n",
       " 'taj boston',\n",
       " 'taj 51 buckingham gate suites and residences',\n",
       " 'taj pamodzi lusaka',\n",
       " 'the pierre',\n",
       " 'a taj hotel',\n",
       " 'taj campton place']"
      ]
     },
     "execution_count": 21,
     "metadata": {},
     "output_type": "execute_result"
    }
   ],
   "source": [
    "[plc.strip() for plc in taj_place]"
   ]
  },
  {
   "cell_type": "code",
   "execution_count": 11,
   "metadata": {},
   "outputs": [],
   "source": [
    "# np.concatenate([], 'Banjaar Tola, A Taj Safari Lodge, Kanha National Park'.split(\",\"))"
   ]
  },
  {
   "cell_type": "code",
   "execution_count": 385,
   "metadata": {},
   "outputs": [],
   "source": [
    "# dte = [('14 Dec 2018', [{ 'SHAPE':'\\d{2}\\sDec\\s\\d{4}' }])]\n",
    "# # ('12 13 2018', [{'ORTH': '12 13 2018', 'LENGTH': 10, 'IS_DIGIT': True, 'IS_PUNCT': False, 'LIKE_NUM': True, 'POS': 'NUM', 'TAG': 'CD', 'SHAPE': 'DD DD DDDD', 'ENT_TYPE': 'DATE'}]),\n",
    "# # ('12 Dec, 2018', [{'ORTH': '12 Dec, 2018', 'IS_DIGIT': True, 'IS_PUNCT': True, 'LIKE_NUM': True,  'SHAPE': 'DD [A-Za-z,] DDDD', 'ENT_TYPE': 'DATE', 'LOWER': '12 dec 2018',  'IS_SPACE': True}])]\n",
    "\n",
    "date_pattern = [{\"example\": [\"September 30, 1971\"], \"pattern\": [{\"ENT_TYPE\": \"DATE\", \"IS_ALPHA\": True}, {\"ENT_TYPE\": \"DATE\", \"IS_DIGIT\": True}, {\"ENT_TYPE\": \"DATE\", \"ORTH\": \",\", \"OP\": \"*\"}, {\"ENT_TYPE\": \"DATE\", \"IS_DIGIT\": True}], \"label\": \"MY_DATE\"},\n",
    "{\"example\": [\"30 September, 1971\"], \"pattern\": [{\"ENT_TYPE\": \"DATE\", \"IS_DIGIT\": True}, {\"ENT_TYPE\": \"DATE\", \"IS_ALPHA\": True}, {\"ENT_TYPE\": \"DATE\", \"ORTH\": \",\", \"OP\": \"*\"}, {\"ENT_TYPE\": \"DATE\", \"IS_DIGIT\": True}], \"label\": \"MY_DATE\"},\n",
    "{\"example\": [\"1st day of September, 1971\"], \"pattern\": [{\"SHAPE\": \"dxx\"}, {\"LOWER\": \"day\"}, {\"LOWER\": \"of\"}, {\"ENT_TYPE\": \"DATE\", \"IS_ALPHA\": True}, { \"ORTH\": \",\", \"OP\": \"*\"}, {\"ENT_TYPE\": \"DATE\", \"IS_DIGIT\": True}], \"label\": \"MY_DATE\"},\n",
    "{\"example\": [\"30th day of September, 1971\"], \"pattern\": [{\"SHAPE\": \"ddxx\"}, {\"LOWER\": \"day\"}, {\"LOWER\": \"of\"}, {\"ENT_TYPE\": \"DATE\", \"IS_ALPHA\": True}, { \"ORTH\": \",\", \"OP\": \"*\"}, {\"ENT_TYPE\": \"DATE\", \"IS_DIGIT\": True}], \"label\": \"MY_DATE\"},\n",
    "{\"example\": [\"28th December, 2018\"], \"pattern\": [{\"SHAPE\": \"ddxx\"}, {\"IS_ALPHA\": True},{\"ENT_TYPE\": \"DATE\", \"ORTH\": \",\", \"OP\": \"*\"}, { \"IS_DIGIT\": True}], \"label\": \"MY_DATE\"},\n",
    "{\"example\": [\"December 21st, 2018\"], \"pattern\": [{\"IS_ALPHA\": True}, {\"SHAPE\": \"ddxx\"}, {\"ENT_TYPE\": \"DATE\", \"ORTH\": \",\", \"OP\": \"*\"}, {\"ENT_TYPE\": \"DATE\", \"IS_DIGIT\": True}], \"label\": \"MY_DATE\"},\n",
    "{\"example\": [\"January 2019\"], \"pattern\": [{\"IS_ALPHA\": True}, {\"ENT_TYPE\": \"DATE\", \"IS_DIGIT\": True}], \"label\": \"MY_DATE\"},           \n",
    "    \n",
    "{\"example\": [\"1/1/1971\"], \"pattern\": [{\"SHAPE\": \"d/d/dddd\"}], \"label\": \"MY_DATE\"},\n",
    "{\"example\": [\"10/1/1971\"], \"pattern\": [{\"SHAPE\": \"dd/d/dddd\"}], \"label\": \"MY_DATE\"},\n",
    "{\"example\": [\"1/10/1971\"], \"pattern\": [{\"SHAPE\": \"d/dd/dddd\"}], \"label\": \"MY_DATE\"},\n",
    "{\"example\": [\"10/10/1971\"], \"pattern\": [{\"SHAPE\": \"dd/dd/dddd\"}], \"label\": \"MY_DATE\"},\n",
    "{\"example\": [\"1/1/71\"], \"pattern\": [{\"SHAPE\": \"d/d/dd\"}], \"label\": \"MY_DATE\"},\n",
    "{\"example\": [\"10/1/71\"], \"pattern\": [{\"SHAPE\": \"dd/d/dd\"}], \"label\": \"MY_DATE\"},\n",
    "{\"example\": [\"1/10/71\"], \"pattern\": [{\"SHAPE\": \"d/dd/dd\"}], \"label\": \"MY_DATE\"},\n",
    "{\"example\": [\"10/10/71\"], \"pattern\": [{\"SHAPE\": \"dd/dd/dd\"}], \"label\": \"MY_DATE\"},\n",
    "{\"example\": [\"1.1.1971\"], \"pattern\": [{\"SHAPE\": \"d.d.dddd\"}], \"label\": \"MY_DATE\"},\n",
    "{\"example\": [\"10.1.1971\"], \"pattern\": [{\"SHAPE\": \"dd.d.dddd\"}], \"label\": \"MY_DATE\"},\n",
    "{\"example\": [\"1.10.1971\"], \"pattern\": [{\"SHAPE\": \"d.dd.dddd\"}], \"label\": \"MY_DATE\"},\n",
    "{\"example\": [\"10.10.1971\"], \"pattern\": [{\"SHAPE\": \"dd.dd.dddd\"}], \"label\": \"MY_DATE\"},\n",
    "{\"example\": [\"1.1.71\"], \"pattern\": [{\"SHAPE\": \"d.d.dd\"}], \"label\": \"MY_DATE\"},\n",
    "{\"example\": [\"10.1.71\"], \"pattern\": [{\"SHAPE\": \"dd.d.dd\"}], \"label\": \"MY_DATE\"},\n",
    "{\"example\": [\"1.10.71\"], \"pattern\": [{\"SHAPE\": \"d.dd.dd\"}], \"label\": \"MY_DATE\"},\n",
    "{\"example\": [\"10.10.71\"], \"pattern\": [{\"SHAPE\": \"dd.dd.dd\"}], \"label\": \"MY_DATE\"}]\n",
    "dates_Pattern_nlp = []\n",
    "for ex in date_pattern:\n",
    "    dates_Pattern_nlp.append((ex['example'][0],  ex['pattern']))\n"
   ]
  },
  {
   "cell_type": "code",
   "execution_count": 386,
   "metadata": {},
   "outputs": [
    {
     "name": "stdout",
     "output_type": "stream",
     "text": [
      "\n",
      "[(3892895032069804020, 0, 1)]\n",
      "(3892895032069804020, 0, 1)\n",
      "[{'text': '12/1/1222', 'label_': 'GPE'}] new\n",
      "[(3892895032069804020, 0, 1)]\n",
      "(3892895032069804020, 0, 1)\n",
      "[{'text': '12/1/1222', 'label_': 'GPE'}] new\n",
      "[(3892895032069804020, 0, 1)]\n",
      "(3892895032069804020, 0, 1)\n",
      "[{'text': '12/1/1222', 'label_': 'GPE'}] new\n",
      "[(3892895032069804020, 0, 1)]\n",
      "(3892895032069804020, 0, 1)\n",
      "[{'text': '12/1/1222', 'label_': 'GPE'}] new\n",
      "[(3892895032069804020, 0, 1)]\n",
      "(3892895032069804020, 0, 1)\n",
      "[{'text': '12/1/1222', 'label_': 'GPE'}] new\n",
      "[(3892895032069804020, 0, 1)]\n",
      "(3892895032069804020, 0, 1)\n",
      "[{'text': '12/1/1222', 'label_': 'GPE'}] new\n",
      "[(3892895032069804020, 0, 1)]\n",
      "(3892895032069804020, 0, 1)\n",
      "[{'text': '12/1/1222', 'label_': 'GPE'}] new\n",
      "[(3892895032069804020, 0, 1)]\n",
      "(3892895032069804020, 0, 1)\n",
      "[{'text': '12/1/1222', 'label_': 'GPE'}] new\n",
      "[(3892895032069804020, 0, 1)]\n",
      "(3892895032069804020, 0, 1)\n",
      "[{'text': '12/1/1222', 'label_': 'GPE'}] new\n",
      "[(3892895032069804020, 0, 1)]\n",
      "(3892895032069804020, 0, 1)\n",
      "[{'text': '12/1/1222', 'label_': 'GPE'}] new\n",
      "[(3892895032069804020, 0, 1)]\n",
      "(3892895032069804020, 0, 1)\n",
      "[{'text': '12/1/1222', 'label_': 'GPE'}] new\n",
      "[(3892895032069804020, 0, 1)]\n",
      "(3892895032069804020, 0, 1)\n",
      "[{'text': '12/1/1222', 'label_': 'GPE'}] new\n",
      "[(3892895032069804020, 0, 1)]\n",
      "(3892895032069804020, 0, 1)\n",
      "[{'text': '12/1/1222', 'label_': 'GPE'}] new\n",
      "[(3892895032069804020, 0, 1)]\n",
      "(3892895032069804020, 0, 1)\n",
      "[{'text': '12/1/1222', 'label_': 'GPE'}] new\n",
      "[(3892895032069804020, 0, 1)]\n",
      "(3892895032069804020, 0, 1)\n",
      "[{'text': '12/1/1222', 'label_': 'GPE'}] new\n",
      "[(3892895032069804020, 0, 1)]\n",
      "(3892895032069804020, 0, 1)\n",
      "[{'text': '12/1/1222', 'label_': 'GPE'}] new\n",
      "[(3892895032069804020, 0, 1)]\n",
      "(3892895032069804020, 0, 1)\n",
      "[{'text': '12/1/1222', 'label_': 'GPE'}] new\n",
      "[(3892895032069804020, 0, 1)]\n",
      "(3892895032069804020, 0, 1)\n",
      "[{'text': '12/1/1222', 'label_': 'GPE'}] new\n",
      "[(3892895032069804020, 0, 1)]\n",
      "(3892895032069804020, 0, 1)\n",
      "[{'text': '12/1/1222', 'label_': 'GPE'}] new\n",
      "[(3892895032069804020, 0, 1)]\n",
      "(3892895032069804020, 0, 1)\n",
      "[{'text': '12/1/1222', 'label_': 'GPE'}] new\n",
      "[(3892895032069804020, 0, 1)]\n",
      "(3892895032069804020, 0, 1)\n",
      "[{'text': '12/1/1222', 'label_': 'GPE'}] new\n",
      "[(3892895032069804020, 0, 1)]\n",
      "(3892895032069804020, 0, 1)\n",
      "[{'text': '12/1/1222', 'label_': 'GPE'}] new\n",
      "[(3892895032069804020, 0, 1)]\n",
      "(3892895032069804020, 0, 1)\n",
      "[{'text': '12/1/1222', 'label_': 'GPE'}] new\n"
     ]
    }
   ],
   "source": [
    "# patterns = buildPatterns(cities)\n",
    "# patterns = buildPatterns(dates_Pattern_nlp)\n",
    "matcher = Matcher(nlp.vocab)\n",
    "city_matcher = buildMatcher(dates_Pattern_nlp)\n",
    "### Size of dictionary \n",
    "len(city_matcher)\n",
    "print()\n",
    "for dt in date_ptrn_values:\n",
    "    print(city_Matcher(city_matcher, '12/1/1222'),'new')"
   ]
  },
  {
   "cell_type": "code",
   "execution_count": 364,
   "metadata": {
    "scrolled": true
   },
   "outputs": [
    {
     "data": {
      "text/plain": [
       "['21st December 2018',\n",
       " 'January 2019',\n",
       " 'December 2018',\n",
       " 'January 2019',\n",
       " 'December 2018',\n",
       " '101015421297',\n",
       " '17/12/2018',\n",
       " '34 years 2',\n",
       " '28 years',\n",
       " 'Dec 2018',\n",
       " ' – 09 DECEMBER 2018',\n",
       " 'December 2018',\n",
       " 'January 2019',\n",
       " 'November 30',\n",
       " 'December 1',\n",
       " '101010203753',\n",
       " 'Monday 26 November to Thursday 29 November',\n",
       " 'Good Day',\n",
       " 'November – 01 December 2018',\n",
       " '12th Jan, 2019 to 15th Jan, 2019',\n",
       " '17th April 2019',\n",
       " '19th April 2019',\n",
       " '12646587']"
      ]
     },
     "execution_count": 364,
     "metadata": {},
     "output_type": "execute_result"
    }
   ],
   "source": [
    "# a = np.concatenate([\"1\",\"2\"], ['Banjaar Tola', ' A Taj Safari Lodge', ' Kanha National Park'])\n",
    "date_ptrn_values"
   ]
  },
  {
   "cell_type": "code",
   "execution_count": 7,
   "metadata": {},
   "outputs": [],
   "source": [
    "# 'Banjaar Tola, A Taj Safari Lodge, Kanha National Park'.split(\",\")"
   ]
  },
  {
   "cell_type": "code",
   "execution_count": 8,
   "metadata": {},
   "outputs": [],
   "source": [
    "# help(np.concatenate)"
   ]
  },
  {
   "cell_type": "code",
   "execution_count": 245,
   "metadata": {},
   "outputs": [
    {
     "data": {
      "text/plain": [
       "[(['September 30, 1971', 'September 30 1971'],\n",
       "  [{'ENT_TYPE': 'DATE', 'IS_ALPHA': True},\n",
       "   {'ENT_TYPE': 'DATE', 'IS_DIGIT': True},\n",
       "   {'ENT_TYPE': 'DATE', 'ORTH': ',', 'OP': '*'},\n",
       "   {'ENT_TYPE': 'DATE', 'IS_DIGIT': True}]),\n",
       " (['30 September, 1971', '30 September 1971'],\n",
       "  [{'ENT_TYPE': 'DATE', 'IS_DIGIT': True},\n",
       "   {'ENT_TYPE': 'DATE', 'IS_ALPHA': True},\n",
       "   {'ENT_TYPE': 'DATE', 'ORTH': ',', 'OP': '*'},\n",
       "   {'ENT_TYPE': 'DATE', 'IS_DIGIT': True}]),\n",
       " (['1st day of September, 1971'],\n",
       "  [{'SHAPE': 'dxx'},\n",
       "   {'LOWER': 'day'},\n",
       "   {'LOWER': 'of'},\n",
       "   {'ENT_TYPE': 'DATE', 'IS_ALPHA': True},\n",
       "   {'ENT_TYPE': 'DATE', 'ORTH': ',', 'OP': '*'},\n",
       "   {'ENT_TYPE': 'DATE', 'IS_DIGIT': True}]),\n",
       " (['30th day of September, 1971'],\n",
       "  [{'SHAPE': 'ddxx'},\n",
       "   {'LOWER': 'day'},\n",
       "   {'LOWER': 'of'},\n",
       "   {'ENT_TYPE': 'DATE', 'IS_ALPHA': True},\n",
       "   {'ENT_TYPE': 'DATE', 'ORTH': ',', 'OP': '*'},\n",
       "   {'ENT_TYPE': 'DATE', 'IS_DIGIT': True}]),\n",
       " (['1/1/1971'], [{'SHAPE': 'd/d/dddd'}]),\n",
       " (['10/1/1971'], [{'SHAPE': 'dd/d/dddd'}]),\n",
       " (['1/10/1971'], [{'SHAPE': 'd/dd/dddd'}]),\n",
       " (['10/10/1971'], [{'SHAPE': 'dd/dd/dddd'}]),\n",
       " (['1/1/71'], [{'SHAPE': 'd/d/dd'}]),\n",
       " (['10/1/71'], [{'SHAPE': 'dd/d/dd'}]),\n",
       " (['1/10/71'], [{'SHAPE': 'd/dd/dd'}]),\n",
       " (['10.10.71'], [{'SHAPE': 'dd/dd/dd'}])]"
      ]
     },
     "execution_count": 245,
     "metadata": {},
     "output_type": "execute_result"
    }
   ],
   "source": [
    "dates_Pattern_nlp"
   ]
  },
  {
   "cell_type": "code",
   "execution_count": 56,
   "metadata": {},
   "outputs": [
    {
     "name": "stdout",
     "output_type": "stream",
     "text": [
      "['PROPN', 'NUM', 'PUNCT', 'NUM']\n",
      "['CD']\n"
     ]
    }
   ],
   "source": [
    "doc = nlp(u\"Dec 20, 2017\")\n",
    "print([token.pos_ for token in doc])  # ['Dec', '20', ',', '2017']\n",
    "\n",
    "doc = nlp(u\"20.12.2017\")\n",
    "print([token.tag_ for token in doc])  # ['20.12.2017']"
   ]
  },
  {
   "cell_type": "code",
   "execution_count": 55,
   "metadata": {},
   "outputs": [
    {
     "data": {
      "text/plain": [
       "10"
      ]
     },
     "execution_count": 55,
     "metadata": {},
     "output_type": "execute_result"
    }
   ],
   "source": [
    "len(\"DD.DD.DDDD\")"
   ]
  },
  {
   "cell_type": "code",
   "execution_count": 121,
   "metadata": {},
   "outputs": [],
   "source": [
    "dte = [('12.13.2018', [{ 'LIKE_NUM': True, 'SHAPE': 'DD.DD.DDDD',}])]\n",
    "# ('12 13 2018', [{'ORTH': '12 13 2018', 'LENGTH': 10, 'IS_DIGIT': True, 'IS_PUNCT': False, 'LIKE_NUM': True, 'POS': 'NUM', 'TAG': 'CD', 'SHAPE': 'DD DD DDDD', 'ENT_TYPE': 'DATE'}]),\n",
    "# ('12 Dec, 2018', [{'ORTH': '12 Dec, 2018', 'IS_DIGIT': True, 'IS_PUNCT': True, 'LIKE_NUM': True,  'SHAPE': 'DD [A-Za-z,] DDDD', 'ENT_TYPE': 'DATE', 'LOWER': '12 dec 2018',  'IS_SPACE': True}])]\n"
   ]
  },
  {
   "cell_type": "code",
   "execution_count": 75,
   "metadata": {},
   "outputs": [
    {
     "data": {
      "text/plain": [
       "[('12.13.2018',\n",
       "  [{'ORTH': '12.13.2018',\n",
       "    'LENGTH': 10,\n",
       "    'IS_DIGIT': True,\n",
       "    'IS_PUNCT': True,\n",
       "    'LIKE_NUM': True,\n",
       "    'POS': 'NUM',\n",
       "    'TAG': 'CD',\n",
       "    'SHAPE': 'DD.DD.DDDD',\n",
       "    'ENT_TYPE': 'DATE'}]),\n",
       " ('12 13 2018',\n",
       "  [{'ORTH': '12 13 2018',\n",
       "    'LENGTH': 10,\n",
       "    'IS_DIGIT': True,\n",
       "    'IS_PUNCT': False,\n",
       "    'LIKE_NUM': True,\n",
       "    'POS': 'NUM',\n",
       "    'TAG': 'CD',\n",
       "    'SHAPE': 'DD DD DDDD',\n",
       "    'ENT_TYPE': 'DATE'}]),\n",
       " ('12 Dec, 2018',\n",
       "  [{'ORTH': '12 Dec, 2018',\n",
       "    'IS_DIGIT': True,\n",
       "    'IS_PUNCT': True,\n",
       "    'LIKE_NUM': True,\n",
       "    'SHAPE': 'DD [A-Za-z,] DDDD',\n",
       "    'ENT_TYPE': 'DATE',\n",
       "    'LOWER': '12 dec 2018',\n",
       "    'IS_SPACE': True}])]"
      ]
     },
     "execution_count": 75,
     "metadata": {},
     "output_type": "execute_result"
    }
   ],
   "source": [
    "dte"
   ]
  },
  {
   "cell_type": "code",
   "execution_count": 227,
   "metadata": {},
   "outputs": [
    {
     "name": "stdout",
     "output_type": "stream",
     "text": [
      "[6, 7, 11, 15, 15, 20, 20, 20, 30, 30, 40, 40, 50, 50]\n",
      "[15, 20, 30, 40, 50]\n"
     ]
    }
   ],
   "source": [
    "my_list = [20,30,20,30,40,50,15,11,20,40,50,15,6,7]\n",
    " \n",
    "my_list.sort()\n",
    "print(my_list)\n",
    " \n",
    "new_list = sorted(set(my_list))\n",
    "dup_list =[]\n",
    " \n",
    " \n",
    "for i in range(len(new_list)):\n",
    "        if (my_list.count(new_list[i]) > 1 ):\n",
    "            dup_list.append(new_list[i])\n",
    "        \n",
    "print(dup_list) "
   ]
  },
  {
   "cell_type": "code",
   "execution_count": 229,
   "metadata": {},
   "outputs": [
    {
     "data": {
      "text/plain": [
       "[{'a': 3222, 'b': 1234}, {'a': 123, 'b': 1234}]"
      ]
     },
     "execution_count": 229,
     "metadata": {},
     "output_type": "execute_result"
    }
   ],
   "source": [
    "l = [{'a': 123, 'b': 1234},\n",
    "        {'a': 3222, 'b': 1234},\n",
    "        {'a': 123, 'b': 1234}]\n",
    "[dict(t) for t in {tuple(d.items()) for d in l}]"
   ]
  },
  {
   "cell_type": "code",
   "execution_count": 230,
   "metadata": {},
   "outputs": [
    {
     "ename": "SyntaxError",
     "evalue": "invalid syntax (<ipython-input-230-4491cb6a5cde>, line 2)",
     "output_type": "error",
     "traceback": [
      "\u001b[1;36m  File \u001b[1;32m\"<ipython-input-230-4491cb6a5cde>\"\u001b[1;36m, line \u001b[1;32m2\u001b[0m\n\u001b[1;33m    [True for b in a if a > b else False]\u001b[0m\n\u001b[1;37m                                 ^\u001b[0m\n\u001b[1;31mSyntaxError\u001b[0m\u001b[1;31m:\u001b[0m invalid syntax\n"
     ]
    }
   ],
   "source": [
    "a = [12, 23, 34, 45]\n",
    "[True for b in a if a > b else False]"
   ]
  },
  {
   "cell_type": "code",
   "execution_count": 250,
   "metadata": {},
   "outputs": [],
   "source": [
    "dates_Pattern_nlp = []\n",
    "for ex in date_pattern:\n",
    "    dates_Pattern_nlp.append((ex['example'][0],  ex['pattern']))\n"
   ]
  },
  {
   "cell_type": "code",
   "execution_count": 251,
   "metadata": {},
   "outputs": [
    {
     "data": {
      "text/plain": [
       "[('September 30, 1971',\n",
       "  [{'ENT_TYPE': 'DATE', 'IS_ALPHA': True},\n",
       "   {'ENT_TYPE': 'DATE', 'IS_DIGIT': True},\n",
       "   {'ENT_TYPE': 'DATE', 'ORTH': ',', 'OP': '*'},\n",
       "   {'ENT_TYPE': 'DATE', 'IS_DIGIT': True}]),\n",
       " ('30 September, 1971',\n",
       "  [{'ENT_TYPE': 'DATE', 'IS_DIGIT': True},\n",
       "   {'ENT_TYPE': 'DATE', 'IS_ALPHA': True},\n",
       "   {'ENT_TYPE': 'DATE', 'ORTH': ',', 'OP': '*'},\n",
       "   {'ENT_TYPE': 'DATE', 'IS_DIGIT': True}]),\n",
       " ('1st day of September, 1971',\n",
       "  [{'SHAPE': 'dxx'},\n",
       "   {'LOWER': 'day'},\n",
       "   {'LOWER': 'of'},\n",
       "   {'ENT_TYPE': 'DATE', 'IS_ALPHA': True},\n",
       "   {'ENT_TYPE': 'DATE', 'ORTH': ',', 'OP': '*'},\n",
       "   {'ENT_TYPE': 'DATE', 'IS_DIGIT': True}]),\n",
       " ('30th day of September, 1971',\n",
       "  [{'SHAPE': 'ddxx'},\n",
       "   {'LOWER': 'day'},\n",
       "   {'LOWER': 'of'},\n",
       "   {'ENT_TYPE': 'DATE', 'IS_ALPHA': True},\n",
       "   {'ENT_TYPE': 'DATE', 'ORTH': ',', 'OP': '*'},\n",
       "   {'ENT_TYPE': 'DATE', 'IS_DIGIT': True}]),\n",
       " ('1/1/1971', [{'SHAPE': 'd/d/dddd'}]),\n",
       " ('10/1/1971', [{'SHAPE': 'dd/d/dddd'}]),\n",
       " ('1/10/1971', [{'SHAPE': 'd/dd/dddd'}]),\n",
       " ('10/10/1971', [{'SHAPE': 'dd/dd/dddd'}]),\n",
       " ('1/1/71', [{'SHAPE': 'd/d/dd'}]),\n",
       " ('10/1/71', [{'SHAPE': 'dd/d/dd'}]),\n",
       " ('1/10/71', [{'SHAPE': 'd/dd/dd'}]),\n",
       " ('10.10.71', [{'SHAPE': 'dd/dd/dd'}])]"
      ]
     },
     "execution_count": 251,
     "metadata": {},
     "output_type": "execute_result"
    }
   ],
   "source": [
    "dates_Pattern_nlp"
   ]
  },
  {
   "cell_type": "code",
   "execution_count": 317,
   "metadata": {},
   "outputs": [],
   "source": [
    "date_values = [{\"label\": \"DATE\", \"pattern\": [{\"lower\": \"21st December 2018\"}]},\n",
    "{\"label\": \"DATE\", \"pattern\": [{\"lower\": \"January 2019\"}]},\n",
    "{\"label\": \"DATE\", \"pattern\": [{\"lower\": \"December 2018\"}]},\n",
    "{\"label\": \"DATE\", \"pattern\": [{\"lower\": \"January 2019\"}]},\n",
    "{\"label\": \"DATE\", \"pattern\": [{\"lower\": \"December 2018\"}]},\n",
    "{\"label\": \"DATE\", \"pattern\": [{\"lower\": \"101015421297\"}]},\n",
    "{\"label\": \"DATE\", \"pattern\": [{\"lower\": \"17/12/2018\"}]},\n",
    "{\"label\": \"DATE\", \"pattern\": [{\"lower\": \"34 years 2\"}]},\n",
    "{\"label\": \"DATE\", \"pattern\": [{\"lower\": \"28 years\"}]},\n",
    "{\"label\": \"DATE\", \"pattern\": [{\"lower\": \"Dec 2018\"}]},\n",
    "{\"label\": \"DATE\", \"pattern\": [{\"lower\": \" \\u2013 09 DECEMBER 2018\"}]},\n",
    "{\"label\": \"DATE\", \"pattern\": [{\"lower\": \"December 2018\"}]},\n",
    "{\"label\": \"DATE\", \"pattern\": [{\"lower\": \"January 2019\"}]},\n",
    "{\"label\": \"DATE\", \"pattern\": [{\"lower\": \"November 30\"}]},\n",
    "{\"label\": \"DATE\", \"pattern\": [{\"lower\": \"December 1\"}]},\n",
    "{\"label\": \"DATE\", \"pattern\": [{\"lower\": \"101010203753\"}]},\n",
    "{\"label\": \"DATE\", \"pattern\": [{\"lower\": \"Monday 26 November to Thursday 29 November\"}]},\n",
    "{\"label\": \"DATE\", \"pattern\": [{\"lower\": \"Good Day\"}]},\n",
    "{\"label\": \"DATE\", \"pattern\": [{\"lower\": \"November \\u2013 01 December 2018\"}]},\n",
    "{\"label\": \"DATE\", \"pattern\": [{\"lower\": \"12th Jan, 2019 to 15th Jan, 2019\"}]},\n",
    "{\"label\": \"DATE\", \"pattern\": [{\"lower\": \"17th April 2019\"}]},\n",
    "{\"label\": \"DATE\", \"pattern\": [{\"lower\": \"19th April 2019\"}]},\n",
    "{\"label\": \"DATE\", \"pattern\": [{\"lower\": \"12646587\"}]}]"
   ]
  },
  {
   "cell_type": "code",
   "execution_count": 319,
   "metadata": {},
   "outputs": [],
   "source": [
    "date_ptrn_values = []\n",
    "for dt in date_values:\n",
    "    date_ptrn_values.append(dt['pattern'][0]['lower'])"
   ]
  },
  {
   "cell_type": "code",
   "execution_count": 320,
   "metadata": {},
   "outputs": [
    {
     "data": {
      "text/plain": [
       "['21st December 2018',\n",
       " 'January 2019',\n",
       " 'December 2018',\n",
       " 'January 2019',\n",
       " 'December 2018',\n",
       " '101015421297',\n",
       " '17/12/2018',\n",
       " '34 years 2',\n",
       " '28 years',\n",
       " 'Dec 2018',\n",
       " ' – 09 DECEMBER 2018',\n",
       " 'December 2018',\n",
       " 'January 2019',\n",
       " 'November 30',\n",
       " 'December 1',\n",
       " '101010203753',\n",
       " 'Monday 26 November to Thursday 29 November',\n",
       " 'Good Day',\n",
       " 'November – 01 December 2018',\n",
       " '12th Jan, 2019 to 15th Jan, 2019',\n",
       " '17th April 2019',\n",
       " '19th April 2019',\n",
       " '12646587']"
      ]
     },
     "execution_count": 320,
     "metadata": {},
     "output_type": "execute_result"
    }
   ],
   "source": [
    "date_ptrn_values"
   ]
  },
  {
   "cell_type": "code",
   "execution_count": 370,
   "metadata": {},
   "outputs": [],
   "source": [
    "import json\n",
    "with open(\"../src/Pattern/date_Pattern.json\", 'r') as f:\n",
    "        date_patter = json.loads(f.read())"
   ]
  },
  {
   "cell_type": "code",
   "execution_count": 375,
   "metadata": {},
   "outputs": [
    {
     "data": {
      "text/plain": [
       "['September 30, 1971']"
      ]
     },
     "execution_count": 375,
     "metadata": {},
     "output_type": "execute_result"
    }
   ],
   "source": [
    "date_patter['date_pattern'][0][\"example\"]"
   ]
  },
  {
   "cell_type": "code",
   "execution_count": 379,
   "metadata": {},
   "outputs": [
    {
     "name": "stdout",
     "output_type": "stream",
     "text": [
      "{'example': ['September 30, 1971'], 'pattern': [{'ENT_TYPE': 'DATE', 'IS_ALPHA': True}, {'ENT_TYPE': 'DATE', 'IS_DIGIT': True}, {'ENT_TYPE': 'DATE', 'ORTH': ',', 'OP': '*'}, {'ENT_TYPE': 'DATE', 'IS_DIGIT': True}], 'label': 'MY_DATE'}\n",
      "{'example': ['30 September, 1971'], 'pattern': [{'ENT_TYPE': 'DATE', 'IS_DIGIT': True}, {'ENT_TYPE': 'DATE', 'IS_ALPHA': True}, {'ENT_TYPE': 'DATE', 'ORTH': ',', 'OP': '*'}, {'ENT_TYPE': 'DATE', 'IS_DIGIT': True}], 'label': 'MY_DATE'}\n",
      "{'example': ['1st day of September, 1971'], 'pattern': [{'SHAPE': 'dxx'}, {'LOWER': 'day'}, {'LOWER': 'of'}, {'ENT_TYPE': 'DATE', 'IS_ALPHA': True}, {'ORTH': ',', 'OP': '*'}, {'ENT_TYPE': 'DATE', 'IS_DIGIT': True}], 'label': 'MY_DATE'}\n",
      "{'example': ['30th day of September, 1971'], 'pattern': [{'SHAPE': 'ddxx'}, {'LOWER': 'day'}, {'LOWER': 'of'}, {'ENT_TYPE': 'DATE', 'IS_ALPHA': True}, {'ORTH': ',', 'OP': '*'}, {'ENT_TYPE': 'DATE', 'IS_DIGIT': True}], 'label': 'MY_DATE'}\n",
      "{'example': ['28th December, 2018'], 'pattern': [{'SHAPE': 'ddxx'}, {'IS_ALPHA': True}, {'ENT_TYPE': 'DATE', 'ORTH': ',', 'OP': '*'}, {'IS_DIGIT': True}], 'label': 'MY_DATE'}\n",
      "{'example': ['December 21st, 2018'], 'pattern': [{'IS_ALPHA': True}, {'SHAPE': 'ddxx'}, {'ENT_TYPE': 'DATE', 'ORTH': ',', 'OP': '*'}, {'ENT_TYPE': 'DATE', 'IS_DIGIT': True}], 'label': 'MY_DATE'}\n",
      "{'example': ['January 2019'], 'pattern': [{'IS_ALPHA': True}, {'ENT_TYPE': 'DATE', 'IS_DIGIT': True}], 'label': 'MY_DATE'}\n",
      "{'example': ['1/1/1971'], 'pattern': [{'SHAPE': 'd/d/dddd'}], 'label': 'MY_DATE'}\n",
      "{'example': ['10/1/1971'], 'pattern': [{'SHAPE': 'dd/d/dddd'}], 'label': 'MY_DATE'}\n",
      "{'example': ['1/10/1971'], 'pattern': [{'SHAPE': 'd/dd/dddd'}], 'label': 'MY_DATE'}\n",
      "{'example': ['10/10/1971'], 'pattern': [{'SHAPE': 'dd/dd/dddd'}], 'label': 'MY_DATE'}\n",
      "{'example': ['1/1/71'], 'pattern': [{'SHAPE': 'd/d/dd'}], 'label': 'MY_DATE'}\n",
      "{'example': ['10/1/71'], 'pattern': [{'SHAPE': 'dd/d/dd'}], 'label': 'MY_DATE'}\n",
      "{'example': ['1/10/71'], 'pattern': [{'SHAPE': 'd/dd/dd'}], 'label': 'MY_DATE'}\n",
      "{'example': ['10/10/71'], 'pattern': [{'SHAPE': 'dd/dd/dd'}], 'label': 'MY_DATE'}\n",
      "{'example': ['1.1.1971'], 'pattern': [{'SHAPE': 'd.d.dddd'}], 'label': 'MY_DATE'}\n",
      "{'example': ['10.1.1971'], 'pattern': [{'SHAPE': 'dd.d.dddd'}], 'label': 'MY_DATE'}\n",
      "{'example': ['1.10.1971'], 'pattern': [{'SHAPE': 'd.dd.dddd'}], 'label': 'MY_DATE'}\n",
      "{'example': ['10.10.1971'], 'pattern': [{'SHAPE': 'dd.dd.dddd'}], 'label': 'MY_DATE'}\n",
      "{'example': ['1.1.71'], 'pattern': [{'SHAPE': 'd.d.dd'}], 'label': 'MY_DATE'}\n",
      "{'example': ['10.1.71'], 'pattern': [{'SHAPE': 'dd.d.dd'}], 'label': 'MY_DATE'}\n",
      "{'example': ['1.10.71'], 'pattern': [{'SHAPE': 'd.dd.dd'}], 'label': 'MY_DATE'}\n",
      "{'example': ['10.10.71'], 'pattern': [{'SHAPE': 'dd.dd.dd'}], 'label': 'MY_DATE'}\n"
     ]
    }
   ],
   "source": [
    "for itm in date_patter['date_pattern']:\n",
    "    print(itm)"
   ]
  },
  {
   "cell_type": "code",
   "execution_count": null,
   "metadata": {},
   "outputs": [],
   "source": []
  }
 ],
 "metadata": {
  "kernelspec": {
   "display_name": "Python 3",
   "language": "python",
   "name": "python3"
  },
  "language_info": {
   "codemirror_mode": {
    "name": "ipython",
    "version": 3
   },
   "file_extension": ".py",
   "mimetype": "text/x-python",
   "name": "python",
   "nbconvert_exporter": "python",
   "pygments_lexer": "ipython3",
   "version": "3.6.7"
  }
 },
 "nbformat": 4,
 "nbformat_minor": 2
}
