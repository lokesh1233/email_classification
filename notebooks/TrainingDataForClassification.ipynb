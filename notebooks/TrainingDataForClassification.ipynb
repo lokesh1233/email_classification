{
 "cells": [
  {
   "cell_type": "code",
   "execution_count": 1,
   "metadata": {},
   "outputs": [],
   "source": [
    "import spacy\n",
    "import pandas as pd\n",
    "import numpy as np\n",
    "from nltk.stem import SnowballStemmer\n",
    "from collections import Counter\n",
    "\n",
    "# nlp = spacy.load('en_core_web_sm')\n",
    "nlpmd = spacy.load('en_core_web_md')\n",
    "nlplg = spacy.load('en_core_web_lg')\n"
   ]
  },
  {
   "cell_type": "code",
   "execution_count": 2,
   "metadata": {},
   "outputs": [],
   "source": [
    "# Import the email modules we'll need\n",
    "import glob\n",
    "import email\n",
    "import mailparser\n",
    "from email import policy\n",
    "from email.parser import BytesParser\n",
    "\n",
    "path = '../datawe/raw/Email_Classification/*'\n",
    "email_types = glob.glob(path)\n",
    "appendFilesData = []\n",
    "file_raw_data = [] \n",
    "for folder in email_types:\n",
    "    files = glob.glob(folder+\"/*.txt\")\n",
    "    email_type = folder.split('\\\\')[1]\n",
    "    for name in files:\n",
    "        try:\n",
    "            with open(name) as fp:\n",
    "                raw_data = fp.read()\n",
    "                file_raw_data.append(raw_data)\n",
    "                msg = mailparser.parse_from_string(raw_data)\n",
    "                appendFilesData.append({\n",
    "                    \"to\":msg.to,\n",
    "                    \"from\":msg.from_,\n",
    "                    \"subject\":msg.subject,\n",
    "                    \"date\":msg.date,\n",
    "#                     \"sent\":msg[\"Sent\"],\n",
    "#                     \"importance\":msg[\"Importance\"],\n",
    "                    \"content\":  msg.body,\n",
    "                    \"class_to_exec\":email_type,\n",
    "                })\n",
    "         \n",
    "        except IOError as exc:\n",
    "            print('Exception')\n",
    "\n",
    "            \n",
    "#creating pandas dataframe\n",
    "data = pd.DataFrame(appendFilesData)"
   ]
  },
  {
   "cell_type": "code",
   "execution_count": 3,
   "metadata": {},
   "outputs": [
    {
     "data": {
      "text/html": [
       "<div>\n",
       "<style scoped>\n",
       "    .dataframe tbody tr th:only-of-type {\n",
       "        vertical-align: middle;\n",
       "    }\n",
       "\n",
       "    .dataframe tbody tr th {\n",
       "        vertical-align: top;\n",
       "    }\n",
       "\n",
       "    .dataframe thead th {\n",
       "        text-align: right;\n",
       "    }\n",
       "</style>\n",
       "<table border=\"1\" class=\"dataframe\">\n",
       "  <thead>\n",
       "    <tr style=\"text-align: right;\">\n",
       "      <th></th>\n",
       "      <th>class_to_exec</th>\n",
       "      <th>content</th>\n",
       "      <th>date</th>\n",
       "      <th>from</th>\n",
       "      <th>subject</th>\n",
       "      <th>to</th>\n",
       "    </tr>\n",
       "  </thead>\n",
       "  <tbody>\n",
       "    <tr>\n",
       "      <th>0</th>\n",
       "      <td>Booking</td>\n",
       "      <td>Dear Rohit,\\n \\nAs per our conversation a whil...</td>\n",
       "      <td>None</td>\n",
       "      <td>[(, Meemendra), (, ), (, meemendra.kumar@andbe...</td>\n",
       "      <td>Mr. Nagdev X 04</td>\n",
       "      <td>[(, Gateway)]</td>\n",
       "    </tr>\n",
       "    <tr>\n",
       "      <th>1</th>\n",
       "      <td>Booking</td>\n",
       "      <td>Hi Agnes,\\n \\nI have not received a response t...</td>\n",
       "      <td>None</td>\n",
       "      <td>[(, Kurien), (, Vinay), (, ), (, vkurien@jones...</td>\n",
       "      <td>RE: Rate Proposal - Taj Connemara</td>\n",
       "      <td>[(Reservations, Reservations@tajhotels.com)]</td>\n",
       "    </tr>\n",
       "    <tr>\n",
       "      <th>2</th>\n",
       "      <td>Booking</td>\n",
       "      <td>As per corporate holiday plan, kindly arrange ...</td>\n",
       "      <td>None</td>\n",
       "      <td>[(, tehp@tatasteel.com[mailto:tehp@tatasteel.c...</td>\n",
       "      <td>TEHP/18/12809: Booking request of Arun Gadamsh...</td>\n",
       "      <td>[(Reservations Coorg, reservations.coorg@tajho...</td>\n",
       "    </tr>\n",
       "    <tr>\n",
       "      <th>3</th>\n",
       "      <td>Booking</td>\n",
       "      <td>Dear Gampa ji,\\n \\nGreetings of the day !\\n \\n...</td>\n",
       "      <td>None</td>\n",
       "      <td>[(, INDIAN), (, ), (, indianjourney@gmail.com)]</td>\n",
       "      <td>Valley Period/3 double room/Lerner group</td>\n",
       "      <td>[(, Neeraj)]</td>\n",
       "    </tr>\n",
       "    <tr>\n",
       "      <th>4</th>\n",
       "      <td>Cancellation</td>\n",
       "      <td>Hi\\n\\nPlease cancel my booking .</td>\n",
       "      <td>None</td>\n",
       "      <td>[(, rajivbhatia@ase.ae[mailto:rajivbhatia@ase....</td>\n",
       "      <td>Re: Taj Chandigarh Payment link for reservatio...</td>\n",
       "      <td>[(Reservations, Reservations@tajhotels.com)]</td>\n",
       "    </tr>\n",
       "  </tbody>\n",
       "</table>\n",
       "</div>"
      ],
      "text/plain": [
       "  class_to_exec                                            content  date  \\\n",
       "0       Booking  Dear Rohit,\\n \\nAs per our conversation a whil...  None   \n",
       "1       Booking  Hi Agnes,\\n \\nI have not received a response t...  None   \n",
       "2       Booking  As per corporate holiday plan, kindly arrange ...  None   \n",
       "3       Booking  Dear Gampa ji,\\n \\nGreetings of the day !\\n \\n...  None   \n",
       "4  Cancellation                   Hi\\n\\nPlease cancel my booking .  None   \n",
       "\n",
       "                                                from  \\\n",
       "0  [(, Meemendra), (, ), (, meemendra.kumar@andbe...   \n",
       "1  [(, Kurien), (, Vinay), (, ), (, vkurien@jones...   \n",
       "2  [(, tehp@tatasteel.com[mailto:tehp@tatasteel.c...   \n",
       "3    [(, INDIAN), (, ), (, indianjourney@gmail.com)]   \n",
       "4  [(, rajivbhatia@ase.ae[mailto:rajivbhatia@ase....   \n",
       "\n",
       "                                             subject  \\\n",
       "0                                    Mr. Nagdev X 04   \n",
       "1                  RE: Rate Proposal - Taj Connemara   \n",
       "2  TEHP/18/12809: Booking request of Arun Gadamsh...   \n",
       "3           Valley Period/3 double room/Lerner group   \n",
       "4  Re: Taj Chandigarh Payment link for reservatio...   \n",
       "\n",
       "                                                  to  \n",
       "0                                      [(, Gateway)]  \n",
       "1       [(Reservations, Reservations@tajhotels.com)]  \n",
       "2  [(Reservations Coorg, reservations.coorg@tajho...  \n",
       "3                                       [(, Neeraj)]  \n",
       "4       [(Reservations, Reservations@tajhotels.com)]  "
      ]
     },
     "execution_count": 3,
     "metadata": {},
     "output_type": "execute_result"
    }
   ],
   "source": [
    "data.head()"
   ]
  },
  {
   "cell_type": "code",
   "execution_count": 78,
   "metadata": {},
   "outputs": [],
   "source": [
    "body = [\"Serial number\"]\n",
    "\n",
    "entityData = []\n",
    "for cnt in body:\n",
    "    entityCh = []\n",
    "    contentSentence = nlplg(cnt)\n",
    "    for sent in contentSentence.sents:\n",
    "        entity = nlplg(str(sent))\n",
    "        for token in entity.ents:\n",
    "            entityData.append({\"text\":sent, \"Entity\":token.text, \"label\":token.label_, \"start_char\":token.start_char, \"end_char\":token.end_char})\n",
    "    #entityData.append({\"body\":cnt, \"entities\":entityCh})"
   ]
  },
  {
   "cell_type": "code",
   "execution_count": 79,
   "metadata": {},
   "outputs": [],
   "source": [
    "entities = pd.DataFrame(entityData)"
   ]
  },
  {
   "cell_type": "code",
   "execution_count": 80,
   "metadata": {},
   "outputs": [],
   "source": [
    "# print(entities[\"body\"][0])"
   ]
  },
  {
   "cell_type": "code",
   "execution_count": 81,
   "metadata": {},
   "outputs": [],
   "source": [
    "entities[\"Target\"] = True"
   ]
  },
  {
   "cell_type": "code",
   "execution_count": 83,
   "metadata": {},
   "outputs": [
    {
     "data": {
      "text/html": [
       "<div>\n",
       "<style scoped>\n",
       "    .dataframe tbody tr th:only-of-type {\n",
       "        vertical-align: middle;\n",
       "    }\n",
       "\n",
       "    .dataframe tbody tr th {\n",
       "        vertical-align: top;\n",
       "    }\n",
       "\n",
       "    .dataframe thead th {\n",
       "        text-align: right;\n",
       "    }\n",
       "</style>\n",
       "<table border=\"1\" class=\"dataframe\">\n",
       "  <thead>\n",
       "    <tr style=\"text-align: right;\">\n",
       "      <th></th>\n",
       "      <th>Target</th>\n",
       "    </tr>\n",
       "  </thead>\n",
       "  <tbody>\n",
       "  </tbody>\n",
       "</table>\n",
       "</div>"
      ],
      "text/plain": [
       "Empty DataFrame\n",
       "Columns: [Target]\n",
       "Index: []"
      ]
     },
     "execution_count": 83,
     "metadata": {},
     "output_type": "execute_result"
    }
   ],
   "source": [
    "entities"
   ]
  },
  {
   "cell_type": "code",
   "execution_count": 84,
   "metadata": {},
   "outputs": [
    {
     "data": {
      "text/html": [
       "<div>\n",
       "<style scoped>\n",
       "    .dataframe tbody tr th:only-of-type {\n",
       "        vertical-align: middle;\n",
       "    }\n",
       "\n",
       "    .dataframe tbody tr th {\n",
       "        vertical-align: top;\n",
       "    }\n",
       "\n",
       "    .dataframe thead th {\n",
       "        text-align: right;\n",
       "    }\n",
       "</style>\n",
       "<table border=\"1\" class=\"dataframe\">\n",
       "  <thead>\n",
       "    <tr style=\"text-align: right;\">\n",
       "      <th></th>\n",
       "      <th>Target</th>\n",
       "    </tr>\n",
       "  </thead>\n",
       "  <tbody>\n",
       "  </tbody>\n",
       "</table>\n",
       "</div>"
      ],
      "text/plain": [
       "Empty DataFrame\n",
       "Columns: [Target]\n",
       "Index: []"
      ]
     },
     "execution_count": 84,
     "metadata": {},
     "output_type": "execute_result"
    }
   ],
   "source": [
    "entities"
   ]
  },
  {
   "cell_type": "code",
   "execution_count": 65,
   "metadata": {},
   "outputs": [],
   "source": [
    "entities[\"Target\"] = entities[\"Entity\"].apply(lambda x: True if x.strip() != \"\" else False)"
   ]
  },
  {
   "cell_type": "code",
   "execution_count": 69,
   "metadata": {},
   "outputs": [],
   "source": [
    "entities.to_csv(\"../datawe/raw/Email_Classification/entityTraining.csv\")"
   ]
  },
  {
   "cell_type": "code",
   "execution_count": null,
   "metadata": {},
   "outputs": [],
   "source": []
  }
 ],
 "metadata": {
  "kernelspec": {
   "display_name": "Python 3",
   "language": "python",
   "name": "python3"
  },
  "language_info": {
   "codemirror_mode": {
    "name": "ipython",
    "version": 3
   },
   "file_extension": ".py",
   "mimetype": "text/x-python",
   "name": "python",
   "nbconvert_exporter": "python",
   "pygments_lexer": "ipython3",
   "version": "3.6.7"
  }
 },
 "nbformat": 4,
 "nbformat_minor": 2
}
