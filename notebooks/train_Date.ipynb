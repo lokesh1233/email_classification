{
 "cells": [
  {
   "cell_type": "code",
   "execution_count": 28,
   "metadata": {},
   "outputs": [],
   "source": [
    "import spacy\n",
    "import pandas as pd\n",
    "import numpy as np\n",
    "from nltk.stem import SnowballStemmer\n",
    "from collections import Counter\n",
    "\n",
    "# nlp = spacy.load('en_core_web_sm')\n",
    "# nlpmd = spacy.load('en_core_web_md')\n",
    "nlplg = spacy.load('en_core_web_lg')\n"
   ]
  },
  {
   "cell_type": "code",
   "execution_count": 29,
   "metadata": {},
   "outputs": [],
   "source": [
    "# Import the email modules we'll need\n",
    "import glob\n",
    "import email\n",
    "import mailparser\n",
    "from email import policy\n",
    "from email.parser import BytesParser\n",
    "\n",
    "path = '../datawe/raw/Email_Classification/*'\n",
    "email_types = glob.glob(path)\n",
    "appendFilesData = []\n",
    "file_raw_data = [] \n",
    "for folder in email_types:\n",
    "    files = glob.glob(folder+\"/*.txt\")\n",
    "    email_type = folder.split('\\\\')[1]\n",
    "    for name in files:\n",
    "        try:\n",
    "            with open(name) as fp:\n",
    "                raw_data = fp.read()\n",
    "                file_raw_data.append(raw_data)\n",
    "                msg = mailparser.parse_from_string(raw_data)\n",
    "                appendFilesData.append({\n",
    "                    \"to\":msg.to,\n",
    "                    \"from\":msg.from_,\n",
    "                    \"subject\":msg.subject,\n",
    "                    \"date\":msg.date,\n",
    "#                     \"sent\":msg[\"Sent\"],\n",
    "#                     \"importance\":msg[\"Importance\"],\n",
    "                    \"content\": raw_data, # msg.body,\n",
    "                    \"class_to_exec\":email_type,\n",
    "                })\n",
    "         \n",
    "        except IOError as exc:\n",
    "            print('Exception')\n",
    "\n",
    "            \n",
    "#creating pandas dataframe\n",
    "data = pd.DataFrame(appendFilesData)"
   ]
  },
  {
   "cell_type": "code",
   "execution_count": 30,
   "metadata": {},
   "outputs": [],
   "source": [
    "# data\n",
    "data[\"content\"] = data[\"content\"].apply(lambda x: x.replace('\\n', ' '))\n",
    "# data['content']"
   ]
  },
  {
   "cell_type": "code",
   "execution_count": 31,
   "metadata": {},
   "outputs": [],
   "source": [
    "body = data[\"content\"].values\n",
    "entityData = []\n",
    "for cnt in body:\n",
    "    entityCh = []\n",
    "    entity = nlplg(cnt)\n",
    "    for token in entity.ents:\n",
    "        entityData.append({\"name\":token.text, \"label\":token.label_, \"end_char\":token.end_char,\"start_char\":token.start_char,\"text\":cnt})\n",
    "\n",
    "\n",
    "#     entityData.append(entityCh)\n"
   ]
  },
  {
   "cell_type": "code",
   "execution_count": 62,
   "metadata": {},
   "outputs": [],
   "source": [
    "# body"
   ]
  },
  {
   "cell_type": "code",
   "execution_count": 34,
   "metadata": {},
   "outputs": [],
   "source": [
    "import spacy\n",
    "from pathlib import Path\n",
    "import json\n",
    "\n",
    "texts = body  # your corpus\n",
    "label = 'NEW_LABEL'  # the label you want to assign to the patterns\n",
    "patterns = []  # collect patterns here\n",
    "\n",
    "nlp = spacy.load('en_core_web_sm')  # or any other model\n",
    "docs = nlp.pipe(texts)  # use nlp.pipe for efficiency\n",
    "for doc in docs:\n",
    "    for ent in doc.ents:\n",
    "        if ent.label_ == 'DATE':   # if a DATE entity is found\n",
    "            entry = {'label': label, \"text\":doc, 'pattern': [{'lower': ent.text}]}\n",
    "            patterns.append(entry)\n",
    "\n",
    "# dump JSON and write patterns to file\n",
    "#jsonl = [json.dumps(pattern) for pattern in patterns]\n",
    "#Path('patterns.jsonl').open('w', encoding='utf-8').write('\\n'.join(jsonl))"
   ]
  },
  {
   "cell_type": "code",
   "execution_count": 37,
   "metadata": {},
   "outputs": [],
   "source": [
    "# Path('patterns.jsonl').open('r', encoding='utf-8').read()"
   ]
  },
  {
   "cell_type": "code",
   "execution_count": 53,
   "metadata": {},
   "outputs": [],
   "source": [
    "your_string = \"\"\"i want to book a room        at Lake         Palace.\n",
    "\n",
    "Check in date is -       31st December 2018\n",
    "check out - 1st       January 2019\"\"\""
   ]
  },
  {
   "cell_type": "code",
   "execution_count": 81,
   "metadata": {},
   "outputs": [],
   "source": [
    "def text_preprocessing(text):\n",
    "    return ' '.join(text.replace('\\n', ' ').replace('1st', '1 st').replace('2nd', '2 nd').replace('3rd', '3 rd').split())"
   ]
  },
  {
   "cell_type": "code",
   "execution_count": 57,
   "metadata": {},
   "outputs": [],
   "source": [
    "your_string = your_string.replace('1st', '1st')\n",
    "your_string =\" \".join(your_string.strip().split())"
   ]
  },
  {
   "cell_type": "code",
   "execution_count": 85,
   "metadata": {},
   "outputs": [],
   "source": [
    "doc = nlp(u\"\"+your_string)"
   ]
  },
  {
   "cell_type": "code",
   "execution_count": 86,
   "metadata": {},
   "outputs": [
    {
     "name": "stdout",
     "output_type": "stream",
     "text": [
      "Lake Palace\n",
      "December 2018\n",
      "January 2019\n"
     ]
    }
   ],
   "source": [
    "for ent in doc.ents:\n",
    "    print(ent)"
   ]
  },
  {
   "cell_type": "code",
   "execution_count": 61,
   "metadata": {},
   "outputs": [
    {
     "data": {
      "text/plain": [
       "<function str.replace>"
      ]
     },
     "execution_count": 61,
     "metadata": {},
     "output_type": "execute_result"
    }
   ],
   "source": [
    "your_string.replace('1st', '1st').replace"
   ]
  },
  {
   "cell_type": "code",
   "execution_count": 87,
   "metadata": {},
   "outputs": [],
   "source": [
    "ent = nlplg(u\"\"+text_preprocessing(your_string))"
   ]
  },
  {
   "cell_type": "code",
   "execution_count": 88,
   "metadata": {},
   "outputs": [
    {
     "name": "stdout",
     "output_type": "stream",
     "text": [
      "Lake Palace\n",
      "December 2018\n",
      "1 st January 2019\n"
     ]
    }
   ],
   "source": [
    "for dt in ent.ents:\n",
    "    print(dt)"
   ]
  },
  {
   "cell_type": "code",
   "execution_count": 90,
   "metadata": {},
   "outputs": [],
   "source": [
    "# doc"
   ]
  },
  {
   "cell_type": "code",
   "execution_count": 92,
   "metadata": {},
   "outputs": [],
   "source": [
    "date_pattern = [{\"example\": [\"September 30, 1971\", \"September 30 1971\"], \"pattern\": [{\"ENT_TYPE\": \"DATE\", \"IS_ALPHA\": True}, {\"ENT_TYPE\": \"DATE\", \"IS_DIGIT\": True}, {\"ENT_TYPE\": \"DATE\", \"ORTH\": \",\", \"OP\": \"*\"}, {\"ENT_TYPE\": \"DATE\", \"IS_DIGIT\": True}], \"label\": \"MY_DATE\"},\n",
    "{\"example\": [\"30 September, 1971\", \"30 September 1971\"], \"pattern\": [{\"ENT_TYPE\": \"DATE\", \"IS_DIGIT\": True}, {\"ENT_TYPE\": \"DATE\", \"IS_ALPHA\": True}, {\"ENT_TYPE\": \"DATE\", \"ORTH\": \",\", \"OP\": \"*\"}, {\"ENT_TYPE\": \"DATE\", \"IS_DIGIT\": True}], \"label\": \"MY_DATE\"},\n",
    "{\"example\": [\"1st day of September, 1971\"], \"pattern\": [{\"SHAPE\": \"dxx\"}, {\"LOWER\": \"day\"}, {\"LOWER\": \"of\"}, {\"ENT_TYPE\": \"DATE\", \"IS_ALPHA\": True}, {\"ENT_TYPE\": \"DATE\", \"ORTH\": \",\", \"OP\": \"*\"}, {\"ENT_TYPE\": \"DATE\", \"IS_DIGIT\": True}], \"label\": \"MY_DATE\"},\n",
    "{\"example\": [\"30th day of September, 1971\"], \"pattern\": [{\"SHAPE\": \"ddxx\"}, {\"LOWER\": \"day\"}, {\"LOWER\": \"of\"}, {\"ENT_TYPE\": \"DATE\", \"IS_ALPHA\": True}, {\"ENT_TYPE\": \"DATE\", \"ORTH\": \",\", \"OP\": \"*\"}, {\"ENT_TYPE\": \"DATE\", \"IS_DIGIT\": True}], \"label\": \"MY_DATE\"},\n",
    "{\"example\": [\"1/1/1971\"], \"pattern\": [{\"SHAPE\": \"d/d/dddd\"}], \"label\": \"MY_DATE\"},\n",
    "{\"example\": [\"10/1/1971\"], \"pattern\": [{\"SHAPE\": \"dd/d/dddd\"}], \"label\": \"MY_DATE\"},\n",
    "{\"example\": [\"1/10/1971\"], \"pattern\": [{\"SHAPE\": \"d/dd/dddd\"}], \"label\": \"MY_DATE\"},\n",
    "{\"example\": [\"10/10/1971\"], \"pattern\": [{\"SHAPE\": \"dd/dd/dddd\"}], \"label\": \"MY_DATE\"},\n",
    "{\"example\": [\"1/1/71\"], \"pattern\": [{\"SHAPE\": \"d/d/dd\"}], \"label\": \"MY_DATE\"},\n",
    "{\"example\": [\"10/1/71\"], \"pattern\": [{\"SHAPE\": \"dd/d/dd\"}], \"label\": \"MY_DATE\"},\n",
    "{\"example\": [\"1/10/71\"], \"pattern\": [{\"SHAPE\": \"d/dd/dd\"}], \"label\": \"MY_DATE\"},\n",
    "{\"example\": [\"10/10/71\"], \"pattern\": [{\"SHAPE\": \"dd/dd/dd\"}], \"label\": \"MY_DATE\"}]"
   ]
  },
  {
   "cell_type": "code",
   "execution_count": 93,
   "metadata": {},
   "outputs": [
    {
     "data": {
      "text/plain": [
       "[{'example': ['September 30, 1971', 'September 30 1971'],\n",
       "  'pattern': [{'ENT_TYPE': 'DATE', 'IS_ALPHA': True},\n",
       "   {'ENT_TYPE': 'DATE', 'IS_DIGIT': True},\n",
       "   {'ENT_TYPE': 'DATE', 'ORTH': ',', 'OP': '*'},\n",
       "   {'ENT_TYPE': 'DATE', 'IS_DIGIT': True}],\n",
       "  'label': 'MY_DATE'},\n",
       " {'example': ['30 September, 1971', '30 September 1971'],\n",
       "  'pattern': [{'ENT_TYPE': 'DATE', 'IS_DIGIT': True},\n",
       "   {'ENT_TYPE': 'DATE', 'IS_ALPHA': True},\n",
       "   {'ENT_TYPE': 'DATE', 'ORTH': ',', 'OP': '*'},\n",
       "   {'ENT_TYPE': 'DATE', 'IS_DIGIT': True}],\n",
       "  'label': 'MY_DATE'},\n",
       " {'example': ['1st day of September, 1971'],\n",
       "  'pattern': [{'SHAPE': 'dxx'},\n",
       "   {'LOWER': 'day'},\n",
       "   {'LOWER': 'of'},\n",
       "   {'ENT_TYPE': 'DATE', 'IS_ALPHA': True},\n",
       "   {'ENT_TYPE': 'DATE', 'ORTH': ',', 'OP': '*'},\n",
       "   {'ENT_TYPE': 'DATE', 'IS_DIGIT': True}],\n",
       "  'label': 'MY_DATE'},\n",
       " {'example': ['30th day of September, 1971'],\n",
       "  'pattern': [{'SHAPE': 'ddxx'},\n",
       "   {'LOWER': 'day'},\n",
       "   {'LOWER': 'of'},\n",
       "   {'ENT_TYPE': 'DATE', 'IS_ALPHA': True},\n",
       "   {'ENT_TYPE': 'DATE', 'ORTH': ',', 'OP': '*'},\n",
       "   {'ENT_TYPE': 'DATE', 'IS_DIGIT': True}],\n",
       "  'label': 'MY_DATE'},\n",
       " {'example': ['1/1/1971'],\n",
       "  'pattern': [{'SHAPE': 'd/d/dddd'}],\n",
       "  'label': 'MY_DATE'},\n",
       " {'example': ['10/1/1971'],\n",
       "  'pattern': [{'SHAPE': 'dd/d/dddd'}],\n",
       "  'label': 'MY_DATE'},\n",
       " {'example': ['1/10/1971'],\n",
       "  'pattern': [{'SHAPE': 'd/dd/dddd'}],\n",
       "  'label': 'MY_DATE'},\n",
       " {'example': ['10/10/1971'],\n",
       "  'pattern': [{'SHAPE': 'dd/dd/dddd'}],\n",
       "  'label': 'MY_DATE'},\n",
       " {'example': ['1/1/71'], 'pattern': [{'SHAPE': 'd/d/dd'}], 'label': 'MY_DATE'},\n",
       " {'example': ['10/1/71'],\n",
       "  'pattern': [{'SHAPE': 'dd/d/dd'}],\n",
       "  'label': 'MY_DATE'},\n",
       " {'example': ['1/10/71'],\n",
       "  'pattern': [{'SHAPE': 'd/dd/dd'}],\n",
       "  'label': 'MY_DATE'},\n",
       " {'example': ['10/10/71'],\n",
       "  'pattern': [{'SHAPE': 'dd/dd/dd'}],\n",
       "  'label': 'MY_DATE'}]"
      ]
     },
     "execution_count": 93,
     "metadata": {},
     "output_type": "execute_result"
    }
   ],
   "source": [
    "date_pattern"
   ]
  },
  {
   "cell_type": "code",
   "execution_count": null,
   "metadata": {},
   "outputs": [],
   "source": []
  },
  {
   "cell_type": "code",
   "execution_count": null,
   "metadata": {},
   "outputs": [],
   "source": []
  },
  {
   "cell_type": "code",
   "execution_count": null,
   "metadata": {},
   "outputs": [],
   "source": []
  },
  {
   "cell_type": "code",
   "execution_count": null,
   "metadata": {},
   "outputs": [],
   "source": []
  }
 ],
 "metadata": {
  "kernelspec": {
   "display_name": "Python 3",
   "language": "python",
   "name": "python3"
  },
  "language_info": {
   "codemirror_mode": {
    "name": "ipython",
    "version": 3
   },
   "file_extension": ".py",
   "mimetype": "text/x-python",
   "name": "python",
   "nbconvert_exporter": "python",
   "pygments_lexer": "ipython3",
   "version": "3.6.7"
  }
 },
 "nbformat": 4,
 "nbformat_minor": 2
}
