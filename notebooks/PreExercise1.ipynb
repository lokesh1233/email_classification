{
 "cells": [
  {
   "cell_type": "markdown",
   "metadata": {},
   "source": [
    "### Importing libraries"
   ]
  },
  {
   "cell_type": "code",
   "execution_count": 121,
   "metadata": {},
   "outputs": [],
   "source": [
    "import numpy as np # linear algebra\n",
    "import pandas as pd # data processing, CSV file I/O (e.g. pd.read_csv)\n",
    "import matplotlib.pyplot as plt\n",
    "import string\n",
    "from nltk.stem import SnowballStemmer\n",
    "from nltk.corpus import stopwords\n",
    "from sklearn.feature_extraction.text import TfidfVectorizer\n",
    "from sklearn.model_selection import train_test_split\n",
    "\n",
    "from subprocess import check_output"
   ]
  },
  {
   "cell_type": "markdown",
   "metadata": {},
   "source": [
    "### Email Data Loading"
   ]
  },
  {
   "cell_type": "code",
   "execution_count": 122,
   "metadata": {},
   "outputs": [],
   "source": [
    "# I use default email library just for simplicity. For real product I would use more complicated parsing tools or write my own\n",
    "# We extract email artificials and content from raw text\n",
    "\n",
    "def email_from_string(raw_email):\n",
    "    msg = email.message_from_string(raw_email)\n",
    "    \n",
    "    content = []\n",
    "    for part in msg.walk():\n",
    "        if part.get_content_type() == 'text/plain':\n",
    "            content.append(part.get_payload())\n",
    "            \n",
    "    result = {}\n",
    "    for key in msg.keys(): \n",
    "        result[key] = msg[key]\n",
    "    result[\"content\"] = ''.join(content)\n",
    "    \n",
    "    return result"
   ]
  },
  {
   "cell_type": "code",
   "execution_count": 130,
   "metadata": {},
   "outputs": [],
   "source": [
    "# Import the email modules we'll need\n",
    "import glob\n",
    "from email import policy\n",
    "from email.parser import BytesParser\n",
    "\n",
    "path = '../data/raw/Email_Classification/*'\n",
    "email_types = glob.glob(path)\n",
    "appendFilesData = []\n",
    "for folder in email_types:\n",
    "    files = glob.glob(folder+\"/*.txt\")\n",
    "    email_type = folder.split('\\\\')[1]\n",
    "    for name in files:\n",
    "        try:\n",
    "            with open(name) as fp:\n",
    "                msg = email_from_string(fp.read())\n",
    "                #appendFilesData.append(fp.read())\n",
    "                #msg = email.message_from_string(fp)\n",
    "                #msg = BytesParser(policy=policy.default).parse(fp)\n",
    "                #richest = ''.join(msg.get_body(preferencelist=('plain', 'html')).get_content().splitlines(keepends=True)[:])\n",
    "                appendFilesData.append({\n",
    "#                     \"to\":msg['To'],\n",
    "#                     \"from\":msg['From'],\n",
    "#                     \"subject\":msg['Subject'],\n",
    "#                     \"sent\":msg[\"Sent\"],\n",
    "#                     \"importance\":msg[\"Importance\"],\n",
    "                    \"content\":msg[\"content\"],\n",
    "                    \"class\":email_type,\n",
    "                })\n",
    "         \n",
    "        except IOError as exc:\n",
    "            print('Exception')"
   ]
  },
  {
   "cell_type": "code",
   "execution_count": 119,
   "metadata": {},
   "outputs": [
    {
     "data": {
      "text/plain": [
       "'From: Meemendra Kumar [mailto:meemendra.kumar@andbeyondindia.com] \\nSent: Monday, November 19, 2018 3:09 PM\\nTo: Gateway Varanasi\\nSubject: Mr. Nagdev X 04\\nImportance: High\\n \\nDear Rohit,\\n \\nAs per our conversation a while ago, please book and confirm 02 Executive room at Taj Gateway Ganges from 24/26 December 2018 for two nights.\\n \\nKind Regards,\\nMeemendra\\n \\nMeemendra Kumar | Tour Consultant | &BEYOND South Asia| Meemendra.kumar@andbeyondindia.com | T +91 11 46269000 | D +91 11 46269022 | M +91 9910092664 New Delhi | India | www.andBeyond.com\\n \\n\\n '"
      ]
     },
     "execution_count": 119,
     "metadata": {},
     "output_type": "execute_result"
    }
   ],
   "source": [
    "appendFilesData[0]"
   ]
  },
  {
   "cell_type": "markdown",
   "metadata": {},
   "source": [
    "### Email Data preprocessing"
   ]
  },
  {
   "cell_type": "code",
   "execution_count": 102,
   "metadata": {},
   "outputs": [
    {
     "data": {
      "text/html": [
       "<div>\n",
       "<style scoped>\n",
       "    .dataframe tbody tr th:only-of-type {\n",
       "        vertical-align: middle;\n",
       "    }\n",
       "\n",
       "    .dataframe tbody tr th {\n",
       "        vertical-align: top;\n",
       "    }\n",
       "\n",
       "    .dataframe thead th {\n",
       "        text-align: right;\n",
       "    }\n",
       "</style>\n",
       "<table border=\"1\" class=\"dataframe\">\n",
       "  <thead>\n",
       "    <tr style=\"text-align: right;\">\n",
       "      <th></th>\n",
       "      <th>class</th>\n",
       "      <th>raw_text</th>\n",
       "      <th>subject</th>\n",
       "      <th>text</th>\n",
       "      <th>to</th>\n",
       "      <th>length</th>\n",
       "    </tr>\n",
       "  </thead>\n",
       "  <tbody>\n",
       "    <tr>\n",
       "      <th>0</th>\n",
       "      <td>Booking</td>\n",
       "      <td>&lt;_io.BufferedReader name='../data/raw/Email_Cl...</td>\n",
       "      <td>Mr. Nagdev X 04</td>\n",
       "      <td>Dear Rohit,\\n \\nAs per our conversation a whil...</td>\n",
       "      <td>\"Gateway Varanasi\"</td>\n",
       "      <td>376</td>\n",
       "    </tr>\n",
       "    <tr>\n",
       "      <th>1</th>\n",
       "      <td>Booking</td>\n",
       "      <td>&lt;_io.BufferedReader name='../data/raw/Email_Cl...</td>\n",
       "      <td>RE: Rate Proposal - Taj Connemara</td>\n",
       "      <td>Hi Agnes,\\n \\nI have not received a response t...</td>\n",
       "      <td>Reservations &lt;Reservations@tajhotels.com&gt;</td>\n",
       "      <td>308</td>\n",
       "    </tr>\n",
       "    <tr>\n",
       "      <th>2</th>\n",
       "      <td>Booking</td>\n",
       "      <td>&lt;_io.BufferedReader name='../data/raw/Email_Cl...</td>\n",
       "      <td>TEHP/18/12809: Booking request of Arun Gadamsh...</td>\n",
       "      <td>As per corporate holiday plan, kindly arrange ...</td>\n",
       "      <td>Reservations Coorg &lt;reservations.coorg@tajhote...</td>\n",
       "      <td>3460</td>\n",
       "    </tr>\n",
       "    <tr>\n",
       "      <th>3</th>\n",
       "      <td>Booking</td>\n",
       "      <td>&lt;_io.BufferedReader name='../data/raw/Email_Cl...</td>\n",
       "      <td>Valley Period/3 double room/Lerner group</td>\n",
       "      <td>Dear Gampa ji,\\n \\nGreetings of the day !\\n \\n...</td>\n",
       "      <td>\"Neeraj Gampa\"</td>\n",
       "      <td>457</td>\n",
       "    </tr>\n",
       "    <tr>\n",
       "      <th>4</th>\n",
       "      <td>Cancellation</td>\n",
       "      <td>&lt;_io.BufferedReader name='../data/raw/Email_Cl...</td>\n",
       "      <td>Re: Taj Chandigarh Payment link for reservatio...</td>\n",
       "      <td>Hi\\n\\nPlease cancel my booking .\\nThanks\\nRAji...</td>\n",
       "      <td>Reservations &lt;Reservations@tajhotels.com&gt;</td>\n",
       "      <td>45</td>\n",
       "    </tr>\n",
       "  </tbody>\n",
       "</table>\n",
       "</div>"
      ],
      "text/plain": [
       "          class                                           raw_text  \\\n",
       "0       Booking  <_io.BufferedReader name='../data/raw/Email_Cl...   \n",
       "1       Booking  <_io.BufferedReader name='../data/raw/Email_Cl...   \n",
       "2       Booking  <_io.BufferedReader name='../data/raw/Email_Cl...   \n",
       "3       Booking  <_io.BufferedReader name='../data/raw/Email_Cl...   \n",
       "4  Cancellation  <_io.BufferedReader name='../data/raw/Email_Cl...   \n",
       "\n",
       "                                             subject  \\\n",
       "0                                    Mr. Nagdev X 04   \n",
       "1                 RE: Rate Proposal - Taj Connemara    \n",
       "2  TEHP/18/12809: Booking request of Arun Gadamsh...   \n",
       "3          Valley Period/3 double room/Lerner group    \n",
       "4  Re: Taj Chandigarh Payment link for reservatio...   \n",
       "\n",
       "                                                text  \\\n",
       "0  Dear Rohit,\\n \\nAs per our conversation a whil...   \n",
       "1  Hi Agnes,\\n \\nI have not received a response t...   \n",
       "2  As per corporate holiday plan, kindly arrange ...   \n",
       "3  Dear Gampa ji,\\n \\nGreetings of the day !\\n \\n...   \n",
       "4  Hi\\n\\nPlease cancel my booking .\\nThanks\\nRAji...   \n",
       "\n",
       "                                                  to  length  \n",
       "0                                 \"Gateway Varanasi\"     376  \n",
       "1          Reservations <Reservations@tajhotels.com>     308  \n",
       "2  Reservations Coorg <reservations.coorg@tajhote...    3460  \n",
       "3                                     \"Neeraj Gampa\"     457  \n",
       "4          Reservations <Reservations@tajhotels.com>      45  "
      ]
     },
     "execution_count": 102,
     "metadata": {},
     "output_type": "execute_result"
    }
   ],
   "source": [
    "data = pd.DataFrame(appendFilesData)\n",
    "data['length'] = data['text'].apply(len)\n",
    "data.head()"
   ]
  },
  {
   "cell_type": "code",
   "execution_count": 103,
   "metadata": {},
   "outputs": [],
   "source": [
    "def pre_process(text):\n",
    "    text = text.translate(str.maketrans('', '', string.punctuation))\n",
    "    text = [word for word in text.split() if word.lower() not in stopwords.words('english')]\n",
    "    words = \"\"\n",
    "    for i in text:\n",
    "            stemmer = SnowballStemmer(\"english\")\n",
    "            words += (stemmer.stem(i))+\" \"\n",
    "    return words"
   ]
  },
  {
   "cell_type": "code",
   "execution_count": 104,
   "metadata": {},
   "outputs": [],
   "source": [
    "textFeatures = data['text'].copy()\n",
    "textFeatures = textFeatures.apply(pre_process)\n",
    "vectorizer = TfidfVectorizer(\"english\")\n",
    "features = vectorizer.fit_transform(textFeatures)\n",
    "\n",
    "features_train, features_test, labels_train, labels_test = train_test_split(features, data['class'], test_size=0.3, random_state=111)"
   ]
  },
  {
   "cell_type": "code",
   "execution_count": 105,
   "metadata": {},
   "outputs": [
    {
     "data": {
      "text/plain": [
       "0.7222222222222222"
      ]
     },
     "execution_count": 105,
     "metadata": {},
     "output_type": "execute_result"
    }
   ],
   "source": [
    "from sklearn.metrics import accuracy_score\n",
    "from sklearn.svm import SVC\n",
    "\n",
    "svc = SVC(kernel='sigmoid', gamma=1.0)\n",
    "svc.fit(features_train, labels_train)\n",
    "prediction = svc.predict(features_test)\n",
    "accuracy_score(labels_test,prediction)"
   ]
  },
  {
   "cell_type": "code",
   "execution_count": 106,
   "metadata": {},
   "outputs": [
    {
     "data": {
      "text/plain": [
       "0.7777777777777778"
      ]
     },
     "execution_count": 106,
     "metadata": {},
     "output_type": "execute_result"
    }
   ],
   "source": [
    "from sklearn.naive_bayes import MultinomialNB\n",
    "\n",
    "mnb = MultinomialNB(alpha=0.2)\n",
    "mnb.fit(features_train, labels_train)\n",
    "prediction = mnb.predict(features_test)\n",
    "accuracy_score(labels_test,prediction)"
   ]
  },
  {
   "cell_type": "markdown",
   "metadata": {},
   "source": [
    "### transforming the data "
   ]
  },
  {
   "cell_type": "code",
   "execution_count": 107,
   "metadata": {},
   "outputs": [],
   "source": [
    "# I use default email library just for simplicity. For real product I would use more complicated parsing tools or write my own\n",
    "# We extract email artificials and content from raw text\n",
    "\n",
    "def email_from_string(raw_email):\n",
    "    msg = email.message_from_string(raw_email)\n",
    "    \n",
    "    content = []\n",
    "    for part in msg.walk():\n",
    "        if part.get_content_type() == 'text/plain':\n",
    "            content.append(part.get_payload())\n",
    "            \n",
    "    result = {}\n",
    "    for key in msg.keys(): \n",
    "        result[key] = msg[key]\n",
    "    result[\"content\"] = ''.join(content)\n",
    "    \n",
    "    return result"
   ]
  },
  {
   "cell_type": "code",
   "execution_count": 120,
   "metadata": {},
   "outputs": [
    {
     "data": {
      "text/plain": [
       "{'From': 'Meemendra Kumar [mailto:meemendra.kumar@andbeyondindia.com] ',\n",
       " 'Sent': 'Monday, November 19, 2018 3:09 PM',\n",
       " 'To': 'Gateway Varanasi',\n",
       " 'Subject': 'Mr. Nagdev X 04',\n",
       " 'Importance': 'High\\n ',\n",
       " 'content': 'Dear Rohit,\\n \\nAs per our conversation a while ago, please book and confirm 02 Executive room at Taj Gateway Ganges from 24/26 December 2018 for two nights.\\n \\nKind Regards,\\nMeemendra\\n \\nMeemendra Kumar | Tour Consultant | &BEYOND South Asia| Meemendra.kumar@andbeyondindia.com | T +91 11 46269000 | D +91 11 46269022 | M +91 9910092664 New Delhi | India | www.andBeyond.com\\n \\n\\n '}"
      ]
     },
     "execution_count": 120,
     "metadata": {},
     "output_type": "execute_result"
    }
   ],
   "source": [
    "email_from_string(appendFilesData[0])"
   ]
  },
  {
   "cell_type": "code",
   "execution_count": 96,
   "metadata": {},
   "outputs": [],
   "source": [
    "import email"
   ]
  },
  {
   "cell_type": "code",
   "execution_count": null,
   "metadata": {},
   "outputs": [],
   "source": []
  }
 ],
 "metadata": {
  "kernelspec": {
   "display_name": "Python 3",
   "language": "python",
   "name": "python3"
  },
  "language_info": {
   "codemirror_mode": {
    "name": "ipython",
    "version": 3
   },
   "file_extension": ".py",
   "mimetype": "text/x-python",
   "name": "python",
   "nbconvert_exporter": "python",
   "pygments_lexer": "ipython3",
   "version": "3.6.7"
  }
 },
 "nbformat": 4,
 "nbformat_minor": 2
}
