{
 "cells": [
  {
   "cell_type": "code",
   "execution_count": 211,
   "metadata": {},
   "outputs": [],
   "source": [
    "import numpy as np # linear algebra\n",
    "import pandas as pd # data processing, CSV file I/O (e.g. pd.read_csv)\n",
    "import matplotlib.pyplot as plt\n",
    "import string\n",
    "import nltk\n",
    "from nltk.stem import SnowballStemmer\n",
    "from nltk.corpus import stopwords\n",
    "from nltk.stem.wordnet import WordNetLemmatizer\n",
    "from sklearn.feature_extraction.text import TfidfVectorizer\n",
    "from sklearn.model_selection import train_test_split\n",
    "\n",
    "from subprocess import check_output"
   ]
  },
  {
   "cell_type": "code",
   "execution_count": 212,
   "metadata": {},
   "outputs": [],
   "source": [
    "# # I use default email library just for simplicity. \n",
    "# # We extract email artificials and content from raw text\n",
    "\n",
    "# def email_from_string(raw_email):\n",
    "#     msg = email.message_from_string(raw_email)\n",
    "    \n",
    "#     content = []\n",
    "#     for part in msg.walk():\n",
    "#         if part.get_content_type() == 'text/plain':\n",
    "#             content.append(part.get_payload().lower())\n",
    "            \n",
    "#     result = {}\n",
    "#     for key in msg.keys(): \n",
    "#         result[key] = msg[key]\n",
    "#     result[\"content\"] = ''.join(content)\n",
    "    \n",
    "#     return result"
   ]
  },
  {
   "cell_type": "code",
   "execution_count": 221,
   "metadata": {},
   "outputs": [],
   "source": [
    "# Import the email modules we'll need\n",
    "import glob\n",
    "import email\n",
    "import mailparser\n",
    "from email import policy\n",
    "from email.parser import BytesParser\n",
    "\n",
    "path = '../datawe/raw/Email_Classification/*'\n",
    "email_types = glob.glob(path)\n",
    "appendFilesData = []\n",
    "file_raw_data = [] \n",
    "for folder in email_types:\n",
    "    files = glob.glob(folder+\"/*.txt\")\n",
    "    email_type = folder.split('\\\\')[1]\n",
    "    for name in files:\n",
    "        try:\n",
    "            with open(name) as fp:\n",
    "                raw_data = fp.read()\n",
    "                file_raw_data.append(raw_data)\n",
    "                msg = mailparser.parse_from_string(raw_data)\n",
    "#                 msg = email_from_string(raw_data)\n",
    "                #appendFilesData.append(fp.read())\n",
    "                #msg = email.message_from_string(fp)\n",
    "                #msg = BytesParser(policy=policy.default).parse(fp)\n",
    "                #richest = ''.join(msg.get_body(preferencelist=('plain', 'html')).get_content().splitlines(keepends=True)[:])\n",
    "                appendFilesData.append({\n",
    "                    \"to\":msg.to,\n",
    "                    \"from\":msg.from_,\n",
    "                    \"subject\":msg.subject,\n",
    "                    \"date\":msg.date,\n",
    "#                     \"sent\":msg[\"Sent\"],\n",
    "#                     \"importance\":msg[\"Importance\"],\n",
    "                    \"content\":raw_data,\n",
    "                    \"class_to_exec\":email_type,\n",
    "                })\n",
    "         \n",
    "        except IOError as exc:\n",
    "            print('Exception')"
   ]
  },
  {
   "cell_type": "code",
   "execution_count": 222,
   "metadata": {},
   "outputs": [
    {
     "name": "stdout",
     "output_type": "stream",
     "text": [
      "<class 'pandas.core.frame.DataFrame'>\n",
      "RangeIndex: 30 entries, 0 to 29\n",
      "Data columns (total 6 columns):\n",
      "class_to_exec    30 non-null object\n",
      "content          30 non-null object\n",
      "date             0 non-null object\n",
      "from             30 non-null object\n",
      "subject          30 non-null object\n",
      "to               30 non-null object\n",
      "dtypes: object(6)\n",
      "memory usage: 1.5+ KB\n"
     ]
    }
   ],
   "source": [
    "data = pd.DataFrame(appendFilesData)\n",
    "#data['length'] = data['content'].apply(len)\n",
    "data.info()"
   ]
  },
  {
   "cell_type": "code",
   "execution_count": 223,
   "metadata": {},
   "outputs": [
    {
     "data": {
      "text/plain": [
       "Enquiry         11\n",
       "Booking          9\n",
       "Payment          5\n",
       "Cancellation     5\n",
       "Name: class_to_exec, dtype: int64"
      ]
     },
     "execution_count": 223,
     "metadata": {},
     "output_type": "execute_result"
    }
   ],
   "source": [
    "data[\"class_to_exec\"].value_counts()"
   ]
  },
  {
   "cell_type": "markdown",
   "metadata": {},
   "source": [
    "### removing punctuatins and numbers"
   ]
  },
  {
   "cell_type": "code",
   "execution_count": 216,
   "metadata": {},
   "outputs": [],
   "source": [
    "# def pre_process(text):\n",
    "#     text = text.translate(str.maketrans('', '', string.punctuation))\n",
    "#     text = [word for word in text.split() if word.lower() not in stopwords.words('english')]\n",
    "#     text = [word for word in text if word.isalnum()]\n",
    "#     words = \"\"\n",
    "#     for i in text:\n",
    "#             stemmer = SnowballStemmer(\"english\")\n",
    "#             words += (stemmer.stem(i))+\" \"\n",
    "#     return words"
   ]
  },
  {
   "cell_type": "markdown",
   "metadata": {},
   "source": [
    "### Cleaning(punctuations, alpha charachters) and lemantizing "
   ]
  },
  {
   "cell_type": "code",
   "execution_count": 217,
   "metadata": {},
   "outputs": [],
   "source": [
    "def clean(doc):\n",
    "    words_to_exclude = set(stopwords.words('english'))\n",
    "    exclude = set(string.punctuation)\n",
    "    \n",
    "    tagged_sentence = nltk.tag.pos_tag(doc.split())\n",
    "    edited_sentence = ' '.join([word for word,tag in tagged_sentence if tag == 'NNP' or tag == 'NNPS']) # or tag == 'NNPS'\n",
    "\n",
    "    word_free = \" \".join([i for i in doc.lower().split() if i not in edited_sentence])\n",
    "    punc_free = ''.join(ch for ch in word_free if ch not in exclude)\n",
    "    alpha_free = \" \".join(word for word in punc_free.split() if word.isalpha())\n",
    "    stemmer = SnowballStemmer(\"english\").stem\n",
    "    stem_free = \" \".join(stemmer(stem) for stem in alpha_free.split())\n",
    "    lemma = WordNetLemmatizer()\n",
    "    normalized = \" \".join(lemma.lemmatize(word) for word in alpha_free.split())\n",
    "    print(edited_sentence)\n",
    "\n",
    "    return normalized\n",
    "\n",
    "# def clean_data(data):\n",
    "#     return [clean(doc).split(' ') for doc in data]"
   ]
  },
  {
   "cell_type": "code",
   "execution_count": 218,
   "metadata": {},
   "outputs": [],
   "source": [
    "# textFeatures[19]"
   ]
  },
  {
   "cell_type": "code",
   "execution_count": 210,
   "metadata": {},
   "outputs": [
    {
     "name": "stdout",
     "output_type": "stream",
     "text": [
      "\n",
      "Rohit, Taj Gateway Ganges December\n",
      "Dear Sir/Madam Re: Taj Taj Palace Hotel Taj Swarna Amritsar Taj Fort Aguada Goa. My Husband (Amrit Singh) Taj General Please\n",
      "Hotel/Resort Arun Gadamshetty P Department Manufacturing Department Contact No Taj Madikeri Coorg, Coorg Room Type Charm Check Date-Time Dec PM Check Date-Time Dec PM No Honeymoon Traveller Details: Arun Gadamshetty Relation Age SHWETA GADAMSHETTY Relation Spouse Age No Please\n",
      "Dear Gampa Greetings Lerner Group Please CPAI Taj Mahal, New Delhi Dec Kindly\n",
      "Reservation Dept, Greetings Kuala Lumpur! DELUXE DELIGHT ROOM QUEEN BED WITH BREAKFAST Check \\u2013 DECEMBER Check DECEMBER Hope\n",
      "\n",
      "\n",
      "\n",
      "Hi Please\n",
      "Dear Kindly Cancel\n",
      "Mr. Athalye, Mr. Uday Athalye Taj Chandigarh. Cancellation Number: Taj Hotels, Resorts Palaces. Please\n",
      "Dear Team, Please\n",
      "\n",
      "Hi, ABB Bangalore. Monday November Thursday November, I\\u2019m Airport Limousine Bengaluru Airport. I\\u2019m\n",
      "Reservation Center, Good Day, Dubai November \\u2013 December Adults)\n",
      "Hi Jan, Jan, Could\n",
      "Hi Agnes, Please\n",
      "Dear Charunya, Thank Kind\n",
      "Shaoib, King Just (with\n",
      "Hi Taj Hotel Dubai.\n",
      "Gaurav, Taj Agauda April April\n",
      "Dear Mahesh, Many Hotel Taj Cape Town.\n",
      "Sir, Invoice\n",
      "Manager Pl\n",
      "Hi, Please Could Letter Shevawn Barder. Booking Confirmation No: CRS-75764SB021202\n",
      "Sunday, November PM, Sir Kindly HOTEL TAJ BANJARA Miss.C.ASHIKA .It Miss.C.Aashika.\n",
      "Hi Isnt\n",
      "28\n"
     ]
    }
   ],
   "source": [
    "textFeatures = data['content'].copy()\n",
    "textFeatures = textFeatures.apply(clean)\n",
    "print(len(textFeatures))\n",
    "vectorizer = TfidfVectorizer(\"english\", smooth_idf=False, sublinear_tf=False, analyzer='word')\n",
    "features = vectorizer.fit_transform(textFeatures)\n",
    "\n",
    "features_train, features_test, labels_train, labels_test = train_test_split(features, data['class_to_exec'], test_size=0.2, random_state=111)"
   ]
  },
  {
   "cell_type": "code",
   "execution_count": 205,
   "metadata": {},
   "outputs": [
    {
     "data": {
      "text/plain": [
       "136"
      ]
     },
     "execution_count": 205,
     "metadata": {},
     "output_type": "execute_result"
    }
   ],
   "source": [
    "# withoutSingularNouns = vectorizer.get_feature_names()\n",
    "len(vectorizer.get_feature_names())"
   ]
  },
  {
   "cell_type": "code",
   "execution_count": 167,
   "metadata": {},
   "outputs": [],
   "source": [
    "# withoutSingularNouns"
   ]
  },
  {
   "cell_type": "code",
   "execution_count": 168,
   "metadata": {},
   "outputs": [],
   "source": [
    "# withNouns = vectorizer.get_feature_names()"
   ]
  },
  {
   "cell_type": "code",
   "execution_count": 169,
   "metadata": {},
   "outputs": [],
   "source": [
    "# len(withoutNouns)"
   ]
  },
  {
   "cell_type": "code",
   "execution_count": 170,
   "metadata": {},
   "outputs": [],
   "source": [
    "# len(withNouns)"
   ]
  },
  {
   "cell_type": "code",
   "execution_count": 171,
   "metadata": {},
   "outputs": [],
   "source": [
    "# deleteNames = []\n",
    "# for itm in withoutNouns:\n",
    "#     if itm not in withoutSingularNouns:\n",
    "#         deleteNames.append(itm)\n",
    "# len(deleteNames)"
   ]
  },
  {
   "cell_type": "code",
   "execution_count": 172,
   "metadata": {},
   "outputs": [],
   "source": [
    "# deleteNames"
   ]
  },
  {
   "cell_type": "code",
   "execution_count": 173,
   "metadata": {},
   "outputs": [],
   "source": [
    "# withNouns"
   ]
  },
  {
   "cell_type": "code",
   "execution_count": 174,
   "metadata": {},
   "outputs": [],
   "source": [
    "# docs = [[\"hello\", \"world\", \"hello\"], [\"goodbye\", \"cruel\", \"world\"]]\n",
    "# indptr = [0]\n",
    "# indices = []\n",
    "# data = []\n",
    "# vocabulary = {}\n",
    "# for d in docs:\n",
    "#     for term in d:\n",
    "#         index = vocabulary.setdefault(term, len(vocabulary))\n",
    "#         indices.append(index)\n",
    "#         data.append(1)\n",
    "# indptr.append(len(indices))\n",
    "# csr_matrix((data, indices, indptr), dtype=int).toarray()\n"
   ]
  },
  {
   "cell_type": "code",
   "execution_count": 175,
   "metadata": {},
   "outputs": [],
   "source": [
    "from scipy.sparse import csr_matrix"
   ]
  },
  {
   "cell_type": "code",
   "execution_count": 197,
   "metadata": {},
   "outputs": [
    {
     "data": {
      "text/plain": [
       "0.5"
      ]
     },
     "execution_count": 197,
     "metadata": {},
     "output_type": "execute_result"
    }
   ],
   "source": [
    "from sklearn.metrics import accuracy_score\n",
    "from sklearn.svm import SVC\n",
    "\n",
    "svc = SVC(kernel='sigmoid', gamma=1.0)\n",
    "svc.fit(features_train, labels_train)\n",
    "prediction = svc.predict(features_test)\n",
    "accuracy_score(labels_test,prediction)"
   ]
  },
  {
   "cell_type": "code",
   "execution_count": 198,
   "metadata": {},
   "outputs": [
    {
     "data": {
      "text/plain": [
       "0.5"
      ]
     },
     "execution_count": 198,
     "metadata": {},
     "output_type": "execute_result"
    }
   ],
   "source": [
    "from sklearn.naive_bayes import MultinomialNB\n",
    "\n",
    "mnb = MultinomialNB(alpha=0.2)\n",
    "mnb.fit(features_train, labels_train)\n",
    "prediction = mnb.predict(features_test)\n",
    "accuracy_score(labels_test,prediction)"
   ]
  },
  {
   "cell_type": "code",
   "execution_count": 199,
   "metadata": {
    "scrolled": true
   },
   "outputs": [
    {
     "name": "stderr",
     "output_type": "stream",
     "text": [
      "c:\\users\\lokesh\\appdata\\local\\programs\\python\\python36\\lib\\site-packages\\sklearn\\linear_model\\logistic.py:432: FutureWarning: Default solver will be changed to 'lbfgs' in 0.22. Specify a solver to silence this warning.\n",
      "  FutureWarning)\n",
      "c:\\users\\lokesh\\appdata\\local\\programs\\python\\python36\\lib\\site-packages\\sklearn\\linear_model\\logistic.py:459: FutureWarning: Default multi_class will be changed to 'auto' in 0.22. Specify the multi_class option to silence this warning.\n",
      "  \"this warning.\", FutureWarning)\n"
     ]
    },
    {
     "data": {
      "text/plain": [
       "0.3333333333333333"
      ]
     },
     "execution_count": 199,
     "metadata": {},
     "output_type": "execute_result"
    }
   ],
   "source": [
    "from sklearn.linear_model import LogisticRegression\n",
    "\n",
    "lr = LogisticRegression()\n",
    "lr.fit(features_train, labels_train)\n",
    "prediction = lr.predict(features_test)\n",
    "accuracy_score(labels_test,prediction)"
   ]
  },
  {
   "cell_type": "code",
   "execution_count": 206,
   "metadata": {},
   "outputs": [
    {
     "name": "stderr",
     "output_type": "stream",
     "text": [
      "c:\\users\\lokesh\\appdata\\local\\programs\\python\\python36\\lib\\site-packages\\sklearn\\model_selection\\_split.py:626: Warning: The least populated class in y has only 4 members, which is too few. The minimum number of members in any class cannot be less than n_splits=5.\n",
      "  % (min_groups, self.n_splits)), Warning)\n",
      "c:\\users\\lokesh\\appdata\\local\\programs\\python\\python36\\lib\\site-packages\\sklearn\\linear_model\\logistic.py:432: FutureWarning: Default solver will be changed to 'lbfgs' in 0.22. Specify a solver to silence this warning.\n",
      "  FutureWarning)\n",
      "c:\\users\\lokesh\\appdata\\local\\programs\\python\\python36\\lib\\site-packages\\sklearn\\linear_model\\logistic.py:459: FutureWarning: Default multi_class will be changed to 'auto' in 0.22. Specify the multi_class option to silence this warning.\n",
      "  \"this warning.\", FutureWarning)\n",
      "c:\\users\\lokesh\\appdata\\local\\programs\\python\\python36\\lib\\site-packages\\sklearn\\model_selection\\_search.py:841: DeprecationWarning: The default of the `iid` parameter will change from True to False in version 0.22 and will be removed in 0.24. This will change numeric results when test-set sizes are unequal.\n",
      "  DeprecationWarning)\n"
     ]
    },
    {
     "data": {
      "text/plain": [
       "GridSearchCV(cv=5, error_score='raise-deprecating',\n",
       "       estimator=LogisticRegression(C=1.0, class_weight=None, dual=False, fit_intercept=True,\n",
       "          intercept_scaling=1, max_iter=100, multi_class='warn',\n",
       "          n_jobs=None, penalty='l2', random_state=None, solver='warn',\n",
       "          tol=0.0001, verbose=0, warm_start=False),\n",
       "       fit_params=None, iid='warn', n_jobs=None,\n",
       "       param_grid={'C': [1e-05, 0.001, 0.1, 1.0, 10.0, 100.0]},\n",
       "       pre_dispatch='2*n_jobs', refit=True, return_train_score='warn',\n",
       "       scoring=None, verbose=0)"
      ]
     },
     "execution_count": 206,
     "metadata": {},
     "output_type": "execute_result"
    }
   ],
   "source": [
    "## grid serach CV for tuning hyperparameters\n",
    "import sklearn.model_selection as modsel\n",
    "param_grid_ = {'C': [1e-5, 1e-3, 1e-1, 1e0, 1e1, 1e2]}\n",
    "\n",
    "tfidf_search = modsel.GridSearchCV(LogisticRegression(), cv=5, param_grid=param_grid_)\n",
    "tfidf_search.fit(features_train, labels_train)"
   ]
  },
  {
   "cell_type": "code",
   "execution_count": 207,
   "metadata": {},
   "outputs": [
    {
     "data": {
      "text/plain": [
       "0.5"
      ]
     },
     "execution_count": 207,
     "metadata": {},
     "output_type": "execute_result"
    }
   ],
   "source": [
    "# vectorizer.vocabulary_\n",
    "\n",
    "pre = tfidf_search.predict(features_test)\n",
    "accuracy_score(labels_test,pre)"
   ]
  },
  {
   "cell_type": "markdown",
   "metadata": {},
   "source": [
    "### testing for the runtime sample example"
   ]
  },
  {
   "cell_type": "code",
   "execution_count": 186,
   "metadata": {},
   "outputs": [],
   "source": [
    "sampleExample = \"\"\"Hi\n",
    "\n",
    "Please cancel my booking .\"\"\""
   ]
  },
  {
   "cell_type": "code",
   "execution_count": 187,
   "metadata": {},
   "outputs": [],
   "source": [
    "# sampleExample"
   ]
  },
  {
   "cell_type": "code",
   "execution_count": 188,
   "metadata": {},
   "outputs": [],
   "source": [
    "textFeaturesTest = pd.Series([sampleExample])\n",
    "textFeaturesTest = textFeaturesTest.apply(clean)\n",
    "featuresTest = vectorizer.transform(textFeaturesTest)\n"
   ]
  },
  {
   "cell_type": "code",
   "execution_count": 189,
   "metadata": {},
   "outputs": [
    {
     "data": {
      "text/plain": [
       "'Cancellation'"
      ]
     },
     "execution_count": 189,
     "metadata": {},
     "output_type": "execute_result"
    }
   ],
   "source": [
    "mnb.predict(featuresTest)[0]"
   ]
  },
  {
   "cell_type": "markdown",
   "metadata": {},
   "source": [
    "### writting data into processed csv files"
   ]
  },
  {
   "cell_type": "code",
   "execution_count": 190,
   "metadata": {},
   "outputs": [],
   "source": [
    "cols = vectorizer.get_feature_names()\n",
    "dataCsv = features.toarray()\n",
    "df_to_csv = pd.DataFrame(dataCsv, columns=cols)\n",
    "df_to_csv = df_to_csv.join(data[\"class_to_exec\"], how=\"outer\")\n",
    "\n",
    "df_to_csv.to_csv('..\\datawe\\processed\\data.csv')"
   ]
  },
  {
   "cell_type": "code",
   "execution_count": null,
   "metadata": {},
   "outputs": [],
   "source": []
  },
  {
   "cell_type": "code",
   "execution_count": 191,
   "metadata": {},
   "outputs": [
    {
     "data": {
      "text/plain": [
       "{'dear': 84,\n",
       " 'rohit': 223,\n",
       " 'per': 193,\n",
       " 'conversation': 73,\n",
       " 'ago': 10,\n",
       " 'please': 198,\n",
       " 'book': 46,\n",
       " 'confirm': 68,\n",
       " 'executive': 101,\n",
       " 'room': 224,\n",
       " 'taj': 256,\n",
       " 'gateway': 114,\n",
       " 'ganges': 113,\n",
       " 'december': 86,\n",
       " 'two': 269,\n",
       " 'night': 179,\n",
       " 'hi': 127,\n",
       " 'agnes': 9,\n",
       " 'received': 210,\n",
       " 'response': 221,\n",
       " 'email': 99,\n",
       " 'yet': 282,\n",
       " 'could': 78,\n",
       " 'let': 151,\n",
       " 'know': 147,\n",
       " 'confirmed': 70,\n",
       " 'corporate': 76,\n",
       " 'holiday': 128,\n",
       " 'plan': 197,\n",
       " 'kindly': 145,\n",
       " 'arrange': 24,\n",
       " 'following': 108,\n",
       " 'accommodation': 1,\n",
       " 'hotelresort': 132,\n",
       " 'detail': 92,\n",
       " 'given': 117,\n",
       " 'below': 42,\n",
       " 'serial': 232,\n",
       " 'number': 183,\n",
       " 'name': 177,\n",
       " 'arun': 25,\n",
       " 'gadamshetty': 111,\n",
       " 'no': 180,\n",
       " 'department': 90,\n",
       " 'spare': 244,\n",
       " 'manufacturing': 164,\n",
       " 'contact': 71,\n",
       " 'place': 196,\n",
       " 'vivanta': 275,\n",
       " 'madikeri': 159,\n",
       " 'coorg': 74,\n",
       " 'type': 270,\n",
       " 'superior': 252,\n",
       " 'charm': 61,\n",
       " 'check': 63,\n",
       " 'datetime': 82,\n",
       " 'dec': 85,\n",
       " 'pm': 199,\n",
       " 'comment': 66,\n",
       " 'requester': 218,\n",
       " 'honeymoon': 129,\n",
       " 'trip': 268,\n",
       " 'traveller': 266,\n",
       " 'relation': 214,\n",
       " 'self': 228,\n",
       " 'age': 8,\n",
       " 'year': 281,\n",
       " 'shweta': 237,\n",
       " 'spouse': 245,\n",
       " 'agreed': 11,\n",
       " 'upon': 274,\n",
       " 'complimentary': 67,\n",
       " 'expense': 102,\n",
       " 'settled': 233,\n",
       " 'directly': 93,\n",
       " 'guest': 123,\n",
       " 'bill': 45,\n",
       " 'entertained': 100,\n",
       " 'bear': 40,\n",
       " 'signature': 238,\n",
       " 'booking': 48,\n",
       " 'earliest': 98,\n",
       " 'copy': 75,\n",
       " 'party': 190,\n",
       " 'mention': 170,\n",
       " 'contracted': 72,\n",
       " 'tariffpackage': 258,\n",
       " 'rate': 207,\n",
       " 'sending': 230,\n",
       " 'confirmation': 69,\n",
       " 'gampa': 112,\n",
       " 'ji': 142,\n",
       " 'greeting': 121,\n",
       " 'day': 83,\n",
       " 'lerner': 150,\n",
       " 'group': 122,\n",
       " 'pax': 191,\n",
       " 'double': 95,\n",
       " 'cpai': 80,\n",
       " 'hotel': 131,\n",
       " 'mahal': 160,\n",
       " 'new': 178,\n",
       " 'delhi': 87,\n",
       " 'revert': 222,\n",
       " 'cancel': 51,\n",
       " 'mr': 175,\n",
       " 'athalye': 28,\n",
       " 'request': 216,\n",
       " 'cancelled': 53,\n",
       " 'reservation': 219,\n",
       " 'favoring': 106,\n",
       " 'uday': 271,\n",
       " 'chandigarh': 58,\n",
       " 'cancellation': 52,\n",
       " 'hope': 130,\n",
       " 'see': 227,\n",
       " 'soon': 243,\n",
       " 'resort': 220,\n",
       " 'palace': 189,\n",
       " 'hesitate': 126,\n",
       " 'may': 166,\n",
       " 'assistance': 27,\n",
       " 'you': 283,\n",
       " 'team': 259,\n",
       " 'attached': 29,\n",
       " 'without': 278,\n",
       " 'charge': 60,\n",
       " 'star': 247,\n",
       " 'policy': 200,\n",
       " 'inner': 136,\n",
       " 'circle': 65,\n",
       " 'stay': 249,\n",
       " 'mumbai': 176,\n",
       " 'november': 182,\n",
       " 'would': 279,\n",
       " 'attending': 30,\n",
       " 'programme': 202,\n",
       " 'invitation': 137,\n",
       " 'redeem': 212,\n",
       " 'card': 55,\n",
       " 'same': 225,\n",
       " 'recommended': 211,\n",
       " 'local': 156,\n",
       " 'abb': 0,\n",
       " 'office': 184,\n",
       " 'bangalore': 36,\n",
       " 'want': 276,\n",
       " 'availability': 32,\n",
       " 'monday': 174,\n",
       " 'thursday': 262,\n",
       " 'person': 194,\n",
       " 'also': 17,\n",
       " 'airport': 14,\n",
       " 'limousine': 154,\n",
       " 'transfer': 264,\n",
       " 'bengaluru': 43,\n",
       " 'available': 33,\n",
       " 'call': 50,\n",
       " 'me': 167,\n",
       " 'looking': 157,\n",
       " 'forward': 110,\n",
       " 'hearing': 125,\n",
       " 'back': 35,\n",
       " 'center': 57,\n",
       " 'good': 120,\n",
       " 'like': 153,\n",
       " 'ask': 26,\n",
       " 'airline': 13,\n",
       " 'staff': 246,\n",
       " 'dubai': 96,\n",
       " 'adult': 5,\n",
       " 'family': 105,\n",
       " 'jan': 141,\n",
       " 'kid': 143,\n",
       " 'share': 235,\n",
       " 'option': 187,\n",
       " 'best': 44,\n",
       " 'discount': 94,\n",
       " 'any': 20,\n",
       " 'dept': 91,\n",
       " 'kuala': 148,\n",
       " 'lumpur': 158,\n",
       " 'receive': 209,\n",
       " 'quote': 206,\n",
       " 'deluxe': 89,\n",
       " 'delight': 88,\n",
       " 'queen': 204,\n",
       " 'bed': 41,\n",
       " 'breakfast': 49,\n",
       " 'hear': 124,\n",
       " 'charunya': 62,\n",
       " 'thank': 260,\n",
       " 'sure': 253,\n",
       " 'one': 185,\n",
       " 'sent': 231,\n",
       " 'fit': 107,\n",
       " 'say': 226,\n",
       " 'kind': 144,\n",
       " 'shaoib': 234,\n",
       " 'proceed': 201,\n",
       " 'king': 146,\n",
       " 'couple': 79,\n",
       " 'question': 205,\n",
       " 'extra': 104,\n",
       " 'with': 277,\n",
       " 'additional': 3,\n",
       " 'cost': 77,\n",
       " 'leave': 149,\n",
       " 'include': 135,\n",
       " 'referring': 213,\n",
       " 'gaurav': 115,\n",
       " 'package': 188,\n",
       " 'agauda': 7,\n",
       " 'starting': 248,\n",
       " 'april': 23,\n",
       " 'mahesh': 161,\n",
       " 'many': 165,\n",
       " 'thanks': 261,\n",
       " 'cape': 54,\n",
       " 'town': 263,\n",
       " 'sir': 241,\n",
       " 'unable': 272,\n",
       " 'making': 162,\n",
       " 'payment': 192,\n",
       " 'link': 155,\n",
       " 'provided': 203,\n",
       " 'invoice': 138,\n",
       " 'requested': 217,\n",
       " 'suggest': 250,\n",
       " 'mode': 173,\n",
       " 'update': 273,\n",
       " 'since': 239,\n",
       " 'change': 59,\n",
       " 'travel': 265,\n",
       " 'aforesaid': 6,\n",
       " 'sirmadam': 242,\n",
       " 're': 208,\n",
       " 'membership': 169,\n",
       " 'booked': 47,\n",
       " 'go': 118,\n",
       " 'swarna': 255,\n",
       " 'amritsar': 19,\n",
       " 'fort': 109,\n",
       " 'aguada': 12,\n",
       " 'goa': 119,\n",
       " 'husband': 133,\n",
       " 'amrit': 18,\n",
       " 'singh': 240,\n",
       " 'member': 168,\n",
       " 'travelling': 267,\n",
       " 'general': 116,\n",
       " 'category': 56,\n",
       " 'apply': 21,\n",
       " 'appreciated': 22,\n",
       " 'manager': 163,\n",
       " 'already': 16,\n",
       " 'talked': 257,\n",
       " 'representative': 215,\n",
       " 'surprised': 254,\n",
       " 'pl': 195,\n",
       " 'expired': 103,\n",
       " 'send': 229,\n",
       " 'credit': 81,\n",
       " 'authorization': 31,\n",
       " 'letter': 152,\n",
       " 'along': 15,\n",
       " 'shevawn': 236,\n",
       " 'barder': 39,\n",
       " 'sunday': 251,\n",
       " 'chitti': 64,\n",
       " 'babu': 34,\n",
       " 'adhityatanningcoyahoocoin': 4,\n",
       " 'wrote': 280,\n",
       " 'bank': 38,\n",
       " 'banjara': 37,\n",
       " 'account': 2,\n",
       " 'online': 186,\n",
       " 'misscashika': 172,\n",
       " 'it': 140,\n",
       " 'noted': 181,\n",
       " 'misscaashika': 171,\n",
       " 'isnt': 139,\n",
       " 'due': 97,\n",
       " 'in': 134}"
      ]
     },
     "execution_count": 191,
     "metadata": {},
     "output_type": "execute_result"
    }
   ],
   "source": [
    "vectorizer.vocabulary_"
   ]
  },
  {
   "cell_type": "code",
   "execution_count": 192,
   "metadata": {},
   "outputs": [
    {
     "name": "stdout",
     "output_type": "stream",
     "text": [
      "Help on class TfidfVectorizer in module sklearn.feature_extraction.text:\n",
      "\n",
      "class TfidfVectorizer(CountVectorizer)\n",
      " |  Convert a collection of raw documents to a matrix of TF-IDF features.\n",
      " |  \n",
      " |  Equivalent to CountVectorizer followed by TfidfTransformer.\n",
      " |  \n",
      " |  Read more in the :ref:`User Guide <text_feature_extraction>`.\n",
      " |  \n",
      " |  Parameters\n",
      " |  ----------\n",
      " |  input : string {'filename', 'file', 'content'}\n",
      " |      If 'filename', the sequence passed as an argument to fit is\n",
      " |      expected to be a list of filenames that need reading to fetch\n",
      " |      the raw content to analyze.\n",
      " |  \n",
      " |      If 'file', the sequence items must have a 'read' method (file-like\n",
      " |      object) that is called to fetch the bytes in memory.\n",
      " |  \n",
      " |      Otherwise the input is expected to be the sequence strings or\n",
      " |      bytes items are expected to be analyzed directly.\n",
      " |  \n",
      " |  encoding : string, 'utf-8' by default.\n",
      " |      If bytes or files are given to analyze, this encoding is used to\n",
      " |      decode.\n",
      " |  \n",
      " |  decode_error : {'strict', 'ignore', 'replace'}\n",
      " |      Instruction on what to do if a byte sequence is given to analyze that\n",
      " |      contains characters not of the given `encoding`. By default, it is\n",
      " |      'strict', meaning that a UnicodeDecodeError will be raised. Other\n",
      " |      values are 'ignore' and 'replace'.\n",
      " |  \n",
      " |  strip_accents : {'ascii', 'unicode', None}\n",
      " |      Remove accents and perform other character normalization\n",
      " |      during the preprocessing step.\n",
      " |      'ascii' is a fast method that only works on characters that have\n",
      " |      an direct ASCII mapping.\n",
      " |      'unicode' is a slightly slower method that works on any characters.\n",
      " |      None (default) does nothing.\n",
      " |  \n",
      " |      Both 'ascii' and 'unicode' use NFKD normalization from\n",
      " |      :func:`unicodedata.normalize`.\n",
      " |  \n",
      " |  lowercase : boolean, default True\n",
      " |      Convert all characters to lowercase before tokenizing.\n",
      " |  \n",
      " |  preprocessor : callable or None (default)\n",
      " |      Override the preprocessing (string transformation) stage while\n",
      " |      preserving the tokenizing and n-grams generation steps.\n",
      " |  \n",
      " |  tokenizer : callable or None (default)\n",
      " |      Override the string tokenization step while preserving the\n",
      " |      preprocessing and n-grams generation steps.\n",
      " |      Only applies if ``analyzer == 'word'``.\n",
      " |  \n",
      " |  analyzer : string, {'word', 'char'} or callable\n",
      " |      Whether the feature should be made of word or character n-grams.\n",
      " |  \n",
      " |      If a callable is passed it is used to extract the sequence of features\n",
      " |      out of the raw, unprocessed input.\n",
      " |  \n",
      " |  stop_words : string {'english'}, list, or None (default)\n",
      " |      If a string, it is passed to _check_stop_list and the appropriate stop\n",
      " |      list is returned. 'english' is currently the only supported string\n",
      " |      value.\n",
      " |      There are several known issues with 'english' and you should\n",
      " |      consider an alternative (see :ref:`stop_words`).\n",
      " |  \n",
      " |      If a list, that list is assumed to contain stop words, all of which\n",
      " |      will be removed from the resulting tokens.\n",
      " |      Only applies if ``analyzer == 'word'``.\n",
      " |  \n",
      " |      If None, no stop words will be used. max_df can be set to a value\n",
      " |      in the range [0.7, 1.0) to automatically detect and filter stop\n",
      " |      words based on intra corpus document frequency of terms.\n",
      " |  \n",
      " |  token_pattern : string\n",
      " |      Regular expression denoting what constitutes a \"token\", only used\n",
      " |      if ``analyzer == 'word'``. The default regexp selects tokens of 2\n",
      " |      or more alphanumeric characters (punctuation is completely ignored\n",
      " |      and always treated as a token separator).\n",
      " |  \n",
      " |  ngram_range : tuple (min_n, max_n)\n",
      " |      The lower and upper boundary of the range of n-values for different\n",
      " |      n-grams to be extracted. All values of n such that min_n <= n <= max_n\n",
      " |      will be used.\n",
      " |  \n",
      " |  max_df : float in range [0.0, 1.0] or int, default=1.0\n",
      " |      When building the vocabulary ignore terms that have a document\n",
      " |      frequency strictly higher than the given threshold (corpus-specific\n",
      " |      stop words).\n",
      " |      If float, the parameter represents a proportion of documents, integer\n",
      " |      absolute counts.\n",
      " |      This parameter is ignored if vocabulary is not None.\n",
      " |  \n",
      " |  min_df : float in range [0.0, 1.0] or int, default=1\n",
      " |      When building the vocabulary ignore terms that have a document\n",
      " |      frequency strictly lower than the given threshold. This value is also\n",
      " |      called cut-off in the literature.\n",
      " |      If float, the parameter represents a proportion of documents, integer\n",
      " |      absolute counts.\n",
      " |      This parameter is ignored if vocabulary is not None.\n",
      " |  \n",
      " |  max_features : int or None, default=None\n",
      " |      If not None, build a vocabulary that only consider the top\n",
      " |      max_features ordered by term frequency across the corpus.\n",
      " |  \n",
      " |      This parameter is ignored if vocabulary is not None.\n",
      " |  \n",
      " |  vocabulary : Mapping or iterable, optional\n",
      " |      Either a Mapping (e.g., a dict) where keys are terms and values are\n",
      " |      indices in the feature matrix, or an iterable over terms. If not\n",
      " |      given, a vocabulary is determined from the input documents.\n",
      " |  \n",
      " |  binary : boolean, default=False\n",
      " |      If True, all non-zero term counts are set to 1. This does not mean\n",
      " |      outputs will have only 0/1 values, only that the tf term in tf-idf\n",
      " |      is binary. (Set idf and normalization to False to get 0/1 outputs.)\n",
      " |  \n",
      " |  dtype : type, optional\n",
      " |      Type of the matrix returned by fit_transform() or transform().\n",
      " |  \n",
      " |  norm : 'l1', 'l2' or None, optional\n",
      " |      Norm used to normalize term vectors. None for no normalization.\n",
      " |  \n",
      " |  use_idf : boolean, default=True\n",
      " |      Enable inverse-document-frequency reweighting.\n",
      " |  \n",
      " |  smooth_idf : boolean, default=True\n",
      " |      Smooth idf weights by adding one to document frequencies, as if an\n",
      " |      extra document was seen containing every term in the collection\n",
      " |      exactly once. Prevents zero divisions.\n",
      " |  \n",
      " |  sublinear_tf : boolean, default=False\n",
      " |      Apply sublinear tf scaling, i.e. replace tf with 1 + log(tf).\n",
      " |  \n",
      " |  Attributes\n",
      " |  ----------\n",
      " |  vocabulary_ : dict\n",
      " |      A mapping of terms to feature indices.\n",
      " |  \n",
      " |  idf_ : array, shape (n_features)\n",
      " |      The inverse document frequency (IDF) vector; only defined\n",
      " |      if  ``use_idf`` is True.\n",
      " |  \n",
      " |  stop_words_ : set\n",
      " |      Terms that were ignored because they either:\n",
      " |  \n",
      " |        - occurred in too many documents (`max_df`)\n",
      " |        - occurred in too few documents (`min_df`)\n",
      " |        - were cut off by feature selection (`max_features`).\n",
      " |  \n",
      " |      This is only available if no vocabulary was given.\n",
      " |  \n",
      " |  Examples\n",
      " |  --------\n",
      " |  >>> from sklearn.feature_extraction.text import TfidfVectorizer\n",
      " |  >>> corpus = [\n",
      " |  ...     'This is the first document.',\n",
      " |  ...     'This document is the second document.',\n",
      " |  ...     'And this is the third one.',\n",
      " |  ...     'Is this the first document?',\n",
      " |  ... ]\n",
      " |  >>> vectorizer = TfidfVectorizer()\n",
      " |  >>> X = vectorizer.fit_transform(corpus)\n",
      " |  >>> print(vectorizer.get_feature_names())\n",
      " |  ['and', 'document', 'first', 'is', 'one', 'second', 'the', 'third', 'this']\n",
      " |  >>> print(X.shape)\n",
      " |  (4, 9)\n",
      " |  \n",
      " |  See also\n",
      " |  --------\n",
      " |  CountVectorizer\n",
      " |      Tokenize the documents and count the occurrences of token and return\n",
      " |      them as a sparse matrix\n",
      " |  \n",
      " |  TfidfTransformer\n",
      " |      Apply Term Frequency Inverse Document Frequency normalization to a\n",
      " |      sparse matrix of occurrence counts.\n",
      " |  \n",
      " |  Notes\n",
      " |  -----\n",
      " |  The ``stop_words_`` attribute can get large and increase the model size\n",
      " |  when pickling. This attribute is provided only for introspection and can\n",
      " |  be safely removed using delattr or set to None before pickling.\n",
      " |  \n",
      " |  Method resolution order:\n",
      " |      TfidfVectorizer\n",
      " |      CountVectorizer\n",
      " |      sklearn.base.BaseEstimator\n",
      " |      VectorizerMixin\n",
      " |      builtins.object\n",
      " |  \n",
      " |  Methods defined here:\n",
      " |  \n",
      " |  __init__(self, input='content', encoding='utf-8', decode_error='strict', strip_accents=None, lowercase=True, preprocessor=None, tokenizer=None, analyzer='word', stop_words=None, token_pattern='(?u)\\\\b\\\\w\\\\w+\\\\b', ngram_range=(1, 1), max_df=1.0, min_df=1, max_features=None, vocabulary=None, binary=False, dtype=<class 'numpy.float64'>, norm='l2', use_idf=True, smooth_idf=True, sublinear_tf=False)\n",
      " |      Initialize self.  See help(type(self)) for accurate signature.\n",
      " |  \n",
      " |  fit(self, raw_documents, y=None)\n",
      " |      Learn vocabulary and idf from training set.\n",
      " |      \n",
      " |      Parameters\n",
      " |      ----------\n",
      " |      raw_documents : iterable\n",
      " |          an iterable which yields either str, unicode or file objects\n",
      " |      \n",
      " |      Returns\n",
      " |      -------\n",
      " |      self : TfidfVectorizer\n",
      " |  \n",
      " |  fit_transform(self, raw_documents, y=None)\n",
      " |      Learn vocabulary and idf, return term-document matrix.\n",
      " |      \n",
      " |      This is equivalent to fit followed by transform, but more efficiently\n",
      " |      implemented.\n",
      " |      \n",
      " |      Parameters\n",
      " |      ----------\n",
      " |      raw_documents : iterable\n",
      " |          an iterable which yields either str, unicode or file objects\n",
      " |      \n",
      " |      Returns\n",
      " |      -------\n",
      " |      X : sparse matrix, [n_samples, n_features]\n",
      " |          Tf-idf-weighted document-term matrix.\n",
      " |  \n",
      " |  transform(self, raw_documents, copy=True)\n",
      " |      Transform documents to document-term matrix.\n",
      " |      \n",
      " |      Uses the vocabulary and document frequencies (df) learned by fit (or\n",
      " |      fit_transform).\n",
      " |      \n",
      " |      Parameters\n",
      " |      ----------\n",
      " |      raw_documents : iterable\n",
      " |          an iterable which yields either str, unicode or file objects\n",
      " |      \n",
      " |      copy : boolean, default True\n",
      " |          Whether to copy X and operate on the copy or perform in-place\n",
      " |          operations.\n",
      " |      \n",
      " |      Returns\n",
      " |      -------\n",
      " |      X : sparse matrix, [n_samples, n_features]\n",
      " |          Tf-idf-weighted document-term matrix.\n",
      " |  \n",
      " |  ----------------------------------------------------------------------\n",
      " |  Data descriptors defined here:\n",
      " |  \n",
      " |  idf_\n",
      " |  \n",
      " |  norm\n",
      " |  \n",
      " |  smooth_idf\n",
      " |  \n",
      " |  sublinear_tf\n",
      " |  \n",
      " |  use_idf\n",
      " |  \n",
      " |  ----------------------------------------------------------------------\n",
      " |  Methods inherited from CountVectorizer:\n",
      " |  \n",
      " |  get_feature_names(self)\n",
      " |      Array mapping from feature integer indices to feature name\n",
      " |  \n",
      " |  inverse_transform(self, X)\n",
      " |      Return terms per document with nonzero entries in X.\n",
      " |      \n",
      " |      Parameters\n",
      " |      ----------\n",
      " |      X : {array, sparse matrix}, shape = [n_samples, n_features]\n",
      " |      \n",
      " |      Returns\n",
      " |      -------\n",
      " |      X_inv : list of arrays, len = n_samples\n",
      " |          List of arrays of terms.\n",
      " |  \n",
      " |  ----------------------------------------------------------------------\n",
      " |  Methods inherited from sklearn.base.BaseEstimator:\n",
      " |  \n",
      " |  __getstate__(self)\n",
      " |  \n",
      " |  __repr__(self)\n",
      " |      Return repr(self).\n",
      " |  \n",
      " |  __setstate__(self, state)\n",
      " |  \n",
      " |  get_params(self, deep=True)\n",
      " |      Get parameters for this estimator.\n",
      " |      \n",
      " |      Parameters\n",
      " |      ----------\n",
      " |      deep : boolean, optional\n",
      " |          If True, will return the parameters for this estimator and\n",
      " |          contained subobjects that are estimators.\n",
      " |      \n",
      " |      Returns\n",
      " |      -------\n",
      " |      params : mapping of string to any\n",
      " |          Parameter names mapped to their values.\n",
      " |  \n",
      " |  set_params(self, **params)\n",
      " |      Set the parameters of this estimator.\n",
      " |      \n",
      " |      The method works on simple estimators as well as on nested objects\n",
      " |      (such as pipelines). The latter have parameters of the form\n",
      " |      ``<component>__<parameter>`` so that it's possible to update each\n",
      " |      component of a nested object.\n",
      " |      \n",
      " |      Returns\n",
      " |      -------\n",
      " |      self\n",
      " |  \n",
      " |  ----------------------------------------------------------------------\n",
      " |  Data descriptors inherited from sklearn.base.BaseEstimator:\n",
      " |  \n",
      " |  __dict__\n",
      " |      dictionary for instance variables (if defined)\n",
      " |  \n",
      " |  __weakref__\n",
      " |      list of weak references to the object (if defined)\n",
      " |  \n",
      " |  ----------------------------------------------------------------------\n",
      " |  Methods inherited from VectorizerMixin:\n",
      " |  \n",
      " |  build_analyzer(self)\n",
      " |      Return a callable that handles preprocessing and tokenization\n",
      " |  \n",
      " |  build_preprocessor(self)\n",
      " |      Return a function to preprocess the text before tokenization\n",
      " |  \n",
      " |  build_tokenizer(self)\n",
      " |      Return a function that splits a string into a sequence of tokens\n",
      " |  \n",
      " |  decode(self, doc)\n",
      " |      Decode the input into a string of unicode symbols\n",
      " |      \n",
      " |      The decoding strategy depends on the vectorizer parameters.\n",
      " |      \n",
      " |      Parameters\n",
      " |      ----------\n",
      " |      doc : string\n",
      " |          The string to decode\n",
      " |  \n",
      " |  get_stop_words(self)\n",
      " |      Build or fetch the effective stop words list\n",
      "\n"
     ]
    }
   ],
   "source": [
    "help(TfidfVectorizer)"
   ]
  },
  {
   "cell_type": "code",
   "execution_count": 193,
   "metadata": {},
   "outputs": [],
   "source": [
    "testTfIdf = TfidfVectorizer(vocabulary=vectorizer.vocabulary_)"
   ]
  },
  {
   "cell_type": "code",
   "execution_count": 194,
   "metadata": {},
   "outputs": [],
   "source": [
    "testTfIdf.fit(textFeaturesTest)\n",
    "da = testTfIdf.transform(textFeaturesTest)"
   ]
  },
  {
   "cell_type": "code",
   "execution_count": 195,
   "metadata": {},
   "outputs": [
    {
     "data": {
      "text/plain": [
       "array([0.5, 0.5, 0.5, 0.5])"
      ]
     },
     "execution_count": 195,
     "metadata": {},
     "output_type": "execute_result"
    }
   ],
   "source": [
    "da.data"
   ]
  },
  {
   "cell_type": "code",
   "execution_count": 196,
   "metadata": {},
   "outputs": [
    {
     "data": {
      "text/plain": [
       "0    hi please cancel booking\n",
       "dtype: object"
      ]
     },
     "execution_count": 196,
     "metadata": {},
     "output_type": "execute_result"
    }
   ],
   "source": [
    "textFeaturesTest"
   ]
  },
  {
   "cell_type": "code",
   "execution_count": 197,
   "metadata": {},
   "outputs": [
    {
     "name": "stdout",
     "output_type": "stream",
     "text": [
      "Requirement already satisfied: pymongo in c:\\users\\lokesh\\appdata\\local\\programs\\python\\python36\\lib\\site-packages (3.7.2)\n"
     ]
    }
   ],
   "source": []
  },
  {
   "cell_type": "code",
   "execution_count": null,
   "metadata": {},
   "outputs": [],
   "source": []
  },
  {
   "cell_type": "code",
   "execution_count": null,
   "metadata": {},
   "outputs": [],
   "source": []
  },
  {
   "cell_type": "code",
   "execution_count": null,
   "metadata": {},
   "outputs": [],
   "source": []
  },
  {
   "cell_type": "code",
   "execution_count": 224,
   "metadata": {},
   "outputs": [
    {
     "name": "stdout",
     "output_type": "stream",
     "text": [
      "\n",
      "Please Check December January\n",
      "Check December January\n",
      "\n",
      "Rohit, Taj Gateway Ganges December\n",
      "Dear Sir/Madam Re: Taj Taj Palace Hotel Taj Swarna Amritsar Taj Fort Aguada Goa. My Husband (Amrit Singh) Taj General Please\n",
      "Hotel/Resort Arun Gadamshetty P Department Manufacturing Department Contact No Taj Madikeri Coorg, Coorg Room Type Charm Check Date-Time Dec PM Check Date-Time Dec PM No Honeymoon Traveller Details: Arun Gadamshetty Relation Age SHWETA GADAMSHETTY Relation Spouse Age No Please\n",
      "Dear Gampa Greetings Lerner Group Please CPAI Taj Mahal, New Delhi Dec Kindly\n",
      "Reservation Dept, Greetings Kuala Lumpur! DELUXE DELIGHT ROOM QUEEN BED WITH BREAKFAST Check – DECEMBER Check DECEMBER Hope\n",
      "\n",
      "\n",
      "Hi Please\n",
      "Dear Kindly Cancel\n",
      "Dear Team, Please\n",
      "Lake Palace Check December January\n",
      "Dear Team Inner Circle, Taj Mahal Mumbai November Mumbai December Room Stay Inner Circle\n",
      "Hi, ABB Bangalore. Monday November Thursday November, I’m Airport Limousine Bengaluru Airport. I’m\n",
      "Reservation Center, Good Day, Dubai November – December Adults)\n",
      "Hi Jan, Jan, Could\n",
      "Hi Agnes, Please\n",
      "Dear Charunya, Thank Kind\n",
      "Shaoib, King Just (with\n",
      "Hi Taj Hotel Dubai.\n",
      "Gaurav, Taj Agauda April April\n",
      "Dear Mahesh, Many Hotel Taj Cape Town.\n",
      "Sir, Invoice\n",
      "Manager Pl\n",
      "Hi, Please Could Letter Shevawn Barder. Booking Confirmation No: CRS-75764SB021202\n",
      "Sir Kindly HOTEL TAJ BANJARA Miss.C.ASHIKA .It Miss.C.Aashika.\n",
      "Hi Isnt\n"
     ]
    }
   ],
   "source": [
    "textFeatures = data['content'].copy()\n",
    "textFeatures = textFeatures.apply(clean)"
   ]
  },
  {
   "cell_type": "code",
   "execution_count": 225,
   "metadata": {},
   "outputs": [
    {
     "data": {
      "text/plain": [
       "0                                 kindly book my ticket\n",
       "1     please book room at lake palace check in date ...\n",
       "2     kindly book room at lake palace check in date ...\n",
       "3                                can you book my ticket\n",
       "4     dear rohit a per our conversation while ago pl...\n",
       "5     dear sirmadam re change booking under taj inne...\n",
       "6     per corporate holiday plan kindly arrange to b...\n",
       "7     dear gampa ji greeting of the day lerner group...\n",
       "8     dear reservation dept greeting from kuala lump...\n",
       "9                           i want to cancel my booking\n",
       "10                              kindly cancel my ticket\n",
       "11                          hi please cancel my booking\n",
       "12    dear sir since there ha been change of our tra...\n",
       "13    dear team please cancel the attached booking w...\n",
       "14    i want to book room at lake palace check in da...\n",
       "15    dear team inner circle plan to stay at the taj...\n",
       "16    hi your hotel wa recommended to me by the loca...\n",
       "17    dear reservation center good day would like to...\n",
       "18    hi looking for accommodation for family of fro...\n",
       "19    hi agnes have not received response to this em...\n",
       "20    dear charunya thank you for your email am not ...\n",
       "21    dear shaoib we would like to proceed the reser...\n",
       "22         hi the taj hotel am referring to is in dubai\n",
       "23    dear gaurav would like to know package for nig...\n",
       "24    dear mahesh many thanks for your email the hot...\n",
       "25    sir am unable to making payment on link provid...\n",
       "26    the manager we already talked to your represen...\n",
       "27    hi the payment link ha expired please see belo...\n",
       "28    sir kindly send me the bank detail of hotel ta...\n",
       "29             hi isnt the payment due when we check in\n",
       "Name: content, dtype: object"
      ]
     },
     "execution_count": 225,
     "metadata": {},
     "output_type": "execute_result"
    }
   ],
   "source": [
    "textFeatures"
   ]
  },
  {
   "cell_type": "code",
   "execution_count": null,
   "metadata": {},
   "outputs": [],
   "source": []
  }
 ],
 "metadata": {
  "kernelspec": {
   "display_name": "Python 3",
   "language": "python",
   "name": "python3"
  },
  "language_info": {
   "codemirror_mode": {
    "name": "ipython",
    "version": 3
   },
   "file_extension": ".py",
   "mimetype": "text/x-python",
   "name": "python",
   "nbconvert_exporter": "python",
   "pygments_lexer": "ipython3",
   "version": "3.6.7"
  }
 },
 "nbformat": 4,
 "nbformat_minor": 2
}
